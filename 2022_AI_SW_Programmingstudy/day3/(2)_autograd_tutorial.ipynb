{
  "cells": [
    {
      "cell_type": "markdown",
      "metadata": {
        "id": "view-in-github",
        "colab_type": "text"
      },
      "source": [
        "<a href=\"https://colab.research.google.com/github/kimheeseo/2022_AI_SW_Programmingstudy/blob/main/(2)_autograd_tutorial.ipynb\" target=\"_parent\"><img src=\"https://colab.research.google.com/assets/colab-badge.svg\" alt=\"Open In Colab\"/></a>"
      ]
    },
    {
      "cell_type": "code",
      "execution_count": null,
      "metadata": {
        "id": "WMJrHcbyRtfw"
      },
      "outputs": [],
      "source": [
        "%matplotlib inline"
      ]
    },
    {
      "cell_type": "markdown",
      "metadata": {
        "id": "Ecw1eHg4Rtfy"
      },
      "source": [
        "\n",
        "``torch.autograd`` 에 대한 간단한 소개\n",
        "-------------------------------------------\n",
        "\n",
        "``torch.autograd`` 는 신경망 학습을 지원하는 PyTorch의 자동 미분 엔진입니다.\n",
        "이 단원에서는 autograd가 신경망 학습을 어떻게 돕는지에 대한 개념적 이해를 할 수\n",
        "있습니다.\n",
        "\n",
        "배경(Background)\n",
        "~~~~~~~~~~~~~~~~~~~\n",
        "신경망(NN; Neural Network)은 어떤 입력 데이터에 대해 실행되는 중첩(nested)된\n",
        "함수들의 모음(collection)입니다. 이 함수들은 PyTorch에서 Tensor로 저장되는,\n",
        "(가중치(weight)와 편향(bias)로 구성된) 매개변수들로 정의됩니다.\n",
        "\n",
        "신경망을 학습하는 것은 2단계로 이루어집니다:\n",
        "\n",
        "**순전파(Forward Propagation)**: 순전파 단계에서, 신경망은 정답을 맞추기 위해\n",
        "최선의 추측(best guess)을 합니다. 이렇게 추측을 하기 위해서 입력 데이터를 각\n",
        "함수들에서 실행합니다.\n",
        "\n",
        "**역전파(Backward Propagation)**: 역전파 단계에서, 신경망은 추측한 값에서 발생한\n",
        "오류(error)에 비례하여(proportionate) 매개변수들을 적절히 조절(adjust)합니다.\n",
        "출력(output)로부터 역방향으로 이동하면서 오류에 대한 함수들의 매개변수들의\n",
        "미분값( *변화도(gradient)* )을 수집하고, 경사하강법(gradient descent)을 사용하여\n",
        "매개변수들을 최적화 합니다. 역전파에 대한 자세한 설명은 `3Blue1Brown의 비디오\n",
        "<https://www.youtube.com/watch?v=tIeHLnjs5U8>`__ 를 참고하세요.\n",
        "~~~~~~~~~~~~~~~~~~~~\n",
        "\n",
        "PyTorch에서 사용법\n",
        "~~~~~~~~~~~~~~~~~~~~\n",
        "\n",
        "학습 단계를 하나만 살펴보겠습니다. 여기에서는 ``torchvision`` 에서 미리 학습된 resnet18 모델을 불러옵니다.\n",
        "3채널짜리 높이와 넓이가 64인 이미지 하나를 표현하는 무작위의 데이터 텐서를 생성하고, 이에 상응하는 ``label(정답)`` 을\n",
        "무작위 값으로 초기화합니다. 미리 학습된 모델의 정답(label)은 (1, 1000)의 모양(shape)을 갖습니다.\n",
        "~~~~~~~~~~~~~~~~~~~~\n",
        "\n",
        "> Note\n",
        "\n",
        "이 튜토리얼은 (텐서를 CUDA로 이동하더라도) GPU에서는 동작하지 않으며 CPU에서만 동작합니다.\n"
      ]
    },
    {
      "cell_type": "code",
      "execution_count": null,
      "metadata": {
        "id": "Xji0dB14Rtfz",
        "colab": {
          "base_uri": "https://localhost:8080/",
          "height": 67,
          "referenced_widgets": [
            "57ef68ab816341d7b02d3d25ff2e73da",
            "d8cc190fca3141f2b49fc1d1f48fea00",
            "b8aa9645e29847c39ba1178439480e6f",
            "1f8f04f608e4441088c9bcdfc2dd1eab",
            "5d1b949ee1d04c44b022c43f58e67b02",
            "24f53089657448bf9b439e8895ccf178",
            "d44e3008635b466e97e1edb2d5494bd1",
            "f5c1539e820d487a943709681c0aa8ea",
            "99a9ccdf868a41fd94b475295bf4e7f0",
            "0cfe9673fadc413e8c56c90e06b2bb4c",
            "4b6f5c0d0c794f41a9e6271cb47d536a"
          ]
        },
        "outputId": "9ccec944-655a-4d13-8f2d-a4557cf3856b"
      },
      "outputs": [
        {
          "output_type": "stream",
          "name": "stderr",
          "text": [
            "Downloading: \"https://download.pytorch.org/models/resnet18-f37072fd.pth\" to /root/.cache/torch/hub/checkpoints/resnet18-f37072fd.pth\n"
          ]
        },
        {
          "output_type": "display_data",
          "data": {
            "application/vnd.jupyter.widget-view+json": {
              "model_id": "57ef68ab816341d7b02d3d25ff2e73da",
              "version_minor": 0,
              "version_major": 2
            },
            "text/plain": [
              "  0%|          | 0.00/44.7M [00:00<?, ?B/s]"
            ]
          },
          "metadata": {}
        }
      ],
      "source": [
        "import torch, torchvision\n",
        "model = torchvision.models.resnet18(pretrained=True)\n",
        "data = torch.rand(1, 3, 64, 64)\n",
        "labels = torch.rand(1, 1000)"
      ]
    },
    {
      "cell_type": "markdown",
      "metadata": {
        "id": "fpgZUy2ARtfz"
      },
      "source": [
        "다음으로, 입력(input) 데이터를 모델의 각 층(layer)에 통과시켜 예측값(prediction)을 생성해보겠습니다.\n",
        "이것이 **순전파 단계** 입니다.\n",
        "\n",
        "\n"
      ]
    },
    {
      "cell_type": "code",
      "execution_count": null,
      "metadata": {
        "id": "3us8Xca1Rtf0"
      },
      "outputs": [],
      "source": [
        "prediction = model(data) # 순전파 단계(forward pass)"
      ]
    },
    {
      "cell_type": "markdown",
      "metadata": {
        "id": "9CZzrzflRtf0"
      },
      "source": [
        "모델의 예측값과 그에 해당하는 정답(label)을 사용하여 오차(error, ``손실(loss)`` )를 계산합니다.\n",
        "다음 단계는 신경망을 통해 이 에러를 역전파하는 것입니다.\n",
        "오차 텐서(error tensor)에 ``.backward()`` 를 호출하면 역전파가 시작됩니다.\n",
        "그 다음 Autograd가 매개변수(parameter)의 ``.grad`` 속성(attribute)에, 모델의\n",
        "각 매개변수에 대한 변화도(gradient)를 계산하고 저장합니다.\n",
        "\n",
        "\n"
      ]
    },
    {
      "cell_type": "code",
      "execution_count": null,
      "metadata": {
        "id": "BJJGV9ipRtf0"
      },
      "outputs": [],
      "source": [
        "loss = (prediction - labels).sum()\n",
        "loss.backward() # 역전파 단계(backward pass)"
      ]
    },
    {
      "cell_type": "markdown",
      "metadata": {
        "id": "K8kkCy7TRtf1"
      },
      "source": [
        "다음으로, 옵티마이저(optimizer)를 불러옵니다.\n",
        "이 예제에서는 학습율(learning rate) 0.1과 `모멘텀(momentum) <https://towardsdatascience.com/stochastic-gradient-descent-with-momentum-a84097641a5d>`__\n",
        "0.9를 갖는 SGD입니다. 옵티마이저(optimizer)에 모델의 모든 매개변수를 등록합니다.\n",
        "\n",
        "\n"
      ]
    },
    {
      "cell_type": "code",
      "execution_count": null,
      "metadata": {
        "id": "X2WGbu45Rtf1"
      },
      "outputs": [],
      "source": [
        "optim = torch.optim.SGD(model.parameters(), lr=1e-2, momentum=0.9)"
      ]
    },
    {
      "cell_type": "markdown",
      "metadata": {
        "id": "-WWQPsHrRtf1"
      },
      "source": [
        "마지막으로 ``.step`` 을 호출하여 경사하강법(gradient descent)을 시작합니다.\n",
        "옵티마이저는 ``.grad`` 에 저장된 변화도에 따라 각 매개변수를 조정(adjust)합니다.\n",
        "\n",
        "\n"
      ]
    },
    {
      "cell_type": "code",
      "execution_count": null,
      "metadata": {
        "id": "R8spPzCvRtf2"
      },
      "outputs": [],
      "source": [
        "optim.step() # 경사하강법(gradient descent)"
      ]
    },
    {
      "cell_type": "markdown",
      "metadata": {
        "id": "AxEJwRnyRtf2"
      },
      "source": [
        "지금까지 신경망 학습에 필요한 모든 것을 알아보았습니다.\n",
        "아래는 autograd의 동작에 대한 세부적인 내용을 설명하므로, 건너뛰어도 됩니다.\n",
        "\n",
        "\n"
      ]
    },
    {
      "cell_type": "markdown",
      "metadata": {
        "id": "BWEBMu39Rtf2"
      },
      "source": [
        "--------------\n",
        "\n",
        "\n"
      ]
    },
    {
      "cell_type": "markdown",
      "metadata": {
        "id": "6BlFisUkRtf2"
      },
      "source": [
        "Autograd에서 미분(differentiation)\n",
        "~~~~~~~~~~~~~~~~~~~~~~~~~~~~~~~~~~~~\n",
        "``autograd`` 가 어떻게 변화도(gradient)를 수집하는지 살펴보겠습니다.\n",
        "``requires_grad=True`` 를 갖는 2개의 텐서(tensor) ``a`` 와 ``b`` 를 만듭니다.\n",
        "``requires_grad=True`` 는 ``autograd`` 에 모든 연산(operation)들을 추적해야 한다고 알려줍니다.\n",
        "\n",
        "\n"
      ]
    },
    {
      "cell_type": "code",
      "execution_count": null,
      "metadata": {
        "id": "lZLiAn72Rtf3"
      },
      "outputs": [],
      "source": [
        "import torch\n",
        "\n",
        "a = torch.tensor([2., 3.], requires_grad=True)\n",
        "b = torch.tensor([6., 4.], requires_grad=True)"
      ]
    },
    {
      "cell_type": "markdown",
      "metadata": {
        "id": "rCGF61cCRtf3"
      },
      "source": [
        "이제 ``a`` 와 ``b`` 로부터 새로운 텐서 ``Q`` 를 만듭니다\n",
        "\n",
        "\\begin{align}Q = 3a^3 - b^2\\end{align}\n",
        "\n"
      ]
    },
    {
      "cell_type": "code",
      "execution_count": null,
      "metadata": {
        "id": "NQMro83aRtf3"
      },
      "outputs": [],
      "source": [
        "Q = 3*a**3 - b**2"
      ]
    },
    {
      "cell_type": "markdown",
      "metadata": {
        "id": "R3pJJ05URtf3"
      },
      "source": [
        "이제 ``a`` 와 ``b`` 가 모두 신경망(NN)의 매개변수이고, ``Q`` 가\n",
        "오차(error)라고 가정해보겠습니다. 신경망을 학습할 때, 아래와 같이\n",
        "매개변수들에 대한 오차의 변화도(gradient)를 구해야 합니다. 즉,\n",
        "\n",
        "\\begin{align}\\frac{\\partial Q}{\\partial a} = 9a^2\\end{align}\n",
        "\n",
        "\\begin{align}\\frac{\\partial Q}{\\partial b} = -2b\\end{align}\n",
        "\n",
        "\n",
        "``Q`` 에 대해서 ``.backward()`` 를 호출할 때, autograd는 이러한 변화도들을 계산하고\n",
        "이를 각 텐서의 ``.grad`` 속성(attribute)에 저장합니다.\n",
        "\n",
        "``Q`` 는 벡터(vector)이므로 ``Q.backward()`` 에 ``gradient`` 인자(argument)를 명시적으로\n",
        "전달해야 합니다. ``gradient`` 는 ``Q`` 와 같은 모양(shape)의 텐서로, ``Q`` 자기 자신에 대한\n",
        "변화도(gradient)를 나타냅니다. 즉\n",
        "\n",
        "\\begin{align}\\frac{dQ}{dQ} = 1\\end{align}\n",
        "\n",
        "동일하게, ``Q.sum().backward()`` 와 같이 ``Q`` 를 스칼라(scalar) 값으로 집계(aggregate)한 뒤 암시적으로\n",
        "``.backward()`` 를 호출할 수도 있습니다.\n",
        "\n",
        "\n"
      ]
    },
    {
      "cell_type": "code",
      "execution_count": null,
      "metadata": {
        "id": "PSFtVgnHRtf3",
        "colab": {
          "base_uri": "https://localhost:8080/"
        },
        "outputId": "cac71d1a-ae15-4b9a-dbfd-264090397e10"
      },
      "outputs": [
        {
          "output_type": "stream",
          "name": "stdout",
          "text": [
            "tensor([-12.,  65.], grad_fn=<SubBackward0>)\n"
          ]
        }
      ],
      "source": [
        "print(Q)\n",
        "\n",
        "external_grad = torch.tensor([1., 1.])\n",
        "Q.backward(gradient=external_grad)"
      ]
    },
    {
      "cell_type": "markdown",
      "metadata": {
        "id": "5QZYFzGARtf4"
      },
      "source": [
        "이제 변화도는 ``a.grad`` 와 ``b.grad`` 에 저장됩니다.\n",
        "\n"
      ]
    },
    {
      "cell_type": "code",
      "execution_count": null,
      "metadata": {
        "id": "0luGbJ-BRtf4",
        "colab": {
          "base_uri": "https://localhost:8080/"
        },
        "outputId": "74247806-9f6b-4c46-86aa-c29752632609"
      },
      "outputs": [
        {
          "output_type": "stream",
          "name": "stdout",
          "text": [
            "tensor([True, True])\n",
            "tensor([True, True])\n"
          ]
        }
      ],
      "source": [
        "# 수집된 변화도가 올바른지 확인합니다.\n",
        "print(9*a**2 == a.grad)\n",
        "print(-2*b == b.grad)"
      ]
    },
    {
      "cell_type": "markdown",
      "metadata": {
        "id": "0L-dFJgNRtf4"
      },
      "source": [
        "선택적으로 읽기(Optional Reading) - ``autograd`` 를 사용한 벡터 미적분(calculus)\n",
        "^^^^^^^^^^^^^^^^^^^^^^^^^^^^^^^^^^^^^^^^^^^^^^^^^^^^^^^^^^^^^^^^^^^^^^^^^^^^^^^^^^\n",
        "\n",
        "수학적으로, 벡터 함수 $\\vec{y}=f(\\vec{x})$ 에서 $\\vec{x}$ 에\n",
        "대한 $\\vec{y}$ 의 변화도는 야코비안 행렬(Jacobian Matrix) $J$: 입니다:\n",
        "\n",
        "\\begin{align}J\n",
        "     =\n",
        "      \\left(\\begin{array}{cc}\n",
        "      \\frac{\\partial \\bf{y}}{\\partial x_{1}} &\n",
        "      ... &\n",
        "      \\frac{\\partial \\bf{y}}{\\partial x_{n}}\n",
        "      \\end{array}\\right)\n",
        "     =\n",
        "     \\left(\\begin{array}{ccc}\n",
        "      \\frac{\\partial y_{1}}{\\partial x_{1}} & \\cdots & \\frac{\\partial y_{1}}{\\partial x_{n}}\\\\\n",
        "      \\vdots & \\ddots & \\vdots\\\\\n",
        "      \\frac{\\partial y_{m}}{\\partial x_{1}} & \\cdots & \\frac{\\partial y_{m}}{\\partial x_{n}}\n",
        "      \\end{array}\\right)\\end{align}\n",
        "\n",
        "일반적으로, ``torch.autograd`` 는 벡터-야코비안 곱을 계산하는 엔진입니다. 이는, 주어진\n",
        "어떤 벡터 $\\vec{v}$ 에 대해 $J^{T}\\cdot \\vec{v}$ 을 연산합니다.\n",
        "\n",
        "만약 $\\vec{v}$ 가 스칼라 함수 $l=g\\left(\\vec{y}\\right)$ 의 변화도(gradient)인 경우:\n",
        "\n",
        "\\begin{align}\\vec{v}\n",
        "   =\n",
        "   \\left(\\begin{array}{ccc}\\frac{\\partial l}{\\partial y_{1}} & \\cdots & \\frac{\\partial l}{\\partial y_{m}}\\end{array}\\right)^{T}\\end{align}\n",
        "\n",
        "이며, 연쇄 법칙(chain rule)에 따라, 벡터-야코비안 곱은 $\\vec{x}$ 에 대한\n",
        "$l$ 의 변화도(gradient)가 됩니다:\n",
        "\n",
        "\\begin{align}J^{T}\\cdot \\vec{v}=\\left(\\begin{array}{ccc}\n",
        "      \\frac{\\partial y_{1}}{\\partial x_{1}} & \\cdots & \\frac{\\partial y_{m}}{\\partial x_{1}}\\\\\n",
        "      \\vdots & \\ddots & \\vdots\\\\\n",
        "      \\frac{\\partial y_{1}}{\\partial x_{n}} & \\cdots & \\frac{\\partial y_{m}}{\\partial x_{n}}\n",
        "      \\end{array}\\right)\\left(\\begin{array}{c}\n",
        "      \\frac{\\partial l}{\\partial y_{1}}\\\\\n",
        "      \\vdots\\\\\n",
        "      \\frac{\\partial l}{\\partial y_{m}}\n",
        "      \\end{array}\\right)=\\left(\\begin{array}{c}\n",
        "      \\frac{\\partial l}{\\partial x_{1}}\\\\\n",
        "      \\vdots\\\\\n",
        "      \\frac{\\partial l}{\\partial x_{n}}\n",
        "      \\end{array}\\right)\\end{align}\n",
        "\n",
        "위 예제에서 벡터-야코비안 곱의 이러한 특성을 사용했습니다;\n",
        "``external_grad`` 가 $\\vec{v}$ 를 뜻합니다.\n",
        "\n",
        "\n"
      ]
    },
    {
      "cell_type": "markdown",
      "metadata": {
        "id": "Nu9ClISJRtf4"
      },
      "source": [
        "연산 그래프(Computational Graph)\n",
        "~~~~~~~~~~~~~~~~~~~~~~~~~~~~~~~~~~~\n",
        "\n",
        "개념적으로, autograd는 데이터(텐서)의 및 실행된 모든 연산들(및 연산 결과가 새로운 텐서인 경우도 포함하여)의\n",
        "기록을 `Function <https://pytorch.org/docs/stable/autograd.html#torch.autograd.Function>`__ 객체로\n",
        "구성된 방향성 비순환 그래프(DAG; Directed Acyclic Graph)에 저장(keep)합니다.\n",
        "이 방향성 비순환 그래프(DAG)의 잎(leave)은 입력 텐서이고, 뿌리(root)는 결과 텐서입니다.\n",
        "이 그래프를 뿌리에서부터 잎까지 추적하면 연쇄 법칙(chain rule)에 따라 변화도를 자동으로 계산할 수 있습니다.\n",
        "\n",
        "순전파 단계에서, autograd는 다음 두 가지 작업을 동시에 수행합니다:\n",
        "\n",
        "- 요청된 연산을 수행하여 결과 텐서를 계산하고,\n",
        "- DAG에 연산의 *변화도 기능(gradient function)* 를 유지(maintain)합니다.\n",
        "\n",
        "역전파 단계는 DAG 뿌리(root)에서 ``.backward()`` 가 호출될 때 시작됩니다. ``autograd`` 는 이 때:\n",
        "\n",
        "- 각 ``.grad_fn`` 으로부터 변화도를 계산하고,\n",
        "- 각 텐서의 ``.grad`` 속성에 계산 결과를 쌓고(accumulate),\n",
        "- 연쇄 법칙을 사용하여, 모든 잎(leaf) 텐서들까지 전파(propagate)합니다.\n",
        "\n",
        "다음은 지금까지 살펴본 예제의 DAG를 시각적으로 표현한 것입니다. 그래프에서 화살표는 순전파 단계의 방향을 나타냅니다.\n",
        "노드(node)들은 순전파 단계에서의 각 연산들에 대한 역전파 함수들을 나타냅니다. 파란색 잎(leaf) 노드는 잎 텐서 ``a`` 와 ``b`` 를 나타냅니다.\n",
        "~~~~~~~~~~~~~~~~~~~~~~~~~~~~~~~~~~~\n",
        "\n",
        "![figure](https://tutorials.pytorch.kr/_images/dag_autograd.png)\n",
        "\n",
        "\n",
        "> Note: **PyTorch에서 DAG들은 동적(dynamic)입니다.**\n",
        "\n",
        "  주목해야 할 중요한 점은 그래프가 처음부터 다시 생성된다는 것입니다.\n",
        "  매번 ``.backward()`` 가 호출되고 나면, autograd는 새로운 그래프를 채우기(populate) 시작합니다. 이러한 점 덕분에 모델에서\n",
        "  흐름 제어(control flow) 구문들을 사용할 수 있게 되는 것입니다. 매번 반복(iteration)할 때마다 필요하면\n",
        "  모양(shape)이나 크기(size), 연산(operation)을 바꿀 수 있습니다.\n",
        "\n",
        "~~~~~~~~~~~~~~~~~~~~~~~~~~~~~~~~~~~\n",
        "DAG에서 제외하기\n",
        "^^^^^^^^^^^^^^^^^^^^^^\n",
        "\n",
        "``torch.autograd`` 는 ``requires_grad`` 플래그(flag)가 ``True`` 로 설정된 모든 텐서에 대한\n",
        "연산들을 추적합니다. 따라서 변화도가 필요하지 않은 텐서들에 대해서는 이 속성을 ``False`` 로 설정하여\n",
        "DAG 변화도 계산에서 제외합니다.\n",
        "\n",
        "입력 텐서 중 단 하나라도 ``requres_grad=True`` 를 갖는 경우, 연산의 결과 텐서도 변화도를 갖게 됩니다.\n",
        "\n",
        "\n"
      ]
    },
    {
      "cell_type": "code",
      "execution_count": null,
      "metadata": {
        "id": "A_2UVrS-Rtf5",
        "colab": {
          "base_uri": "https://localhost:8080/"
        },
        "outputId": "e2abe500-55b9-4c01-b03b-1bb317cdf1f0"
      },
      "outputs": [
        {
          "output_type": "stream",
          "name": "stdout",
          "text": [
            "Does `a` require gradients? : False\n",
            "Does `b` require gradients?: True\n"
          ]
        }
      ],
      "source": [
        "x = torch.rand(5, 5)\n",
        "y = torch.rand(5, 5)\n",
        "z = torch.rand((5, 5), requires_grad=True)\n",
        "\n",
        "a = x + y\n",
        "print(f\"Does `a` require gradients? : {a.requires_grad}\")\n",
        "b = x + z\n",
        "print(f\"Does `b` require gradients?: {b.requires_grad}\")"
      ]
    },
    {
      "cell_type": "markdown",
      "metadata": {
        "id": "HZY6NBSGRtf5"
      },
      "source": [
        "신경망에서, 변화도를 계산하지 않는 매개변수를 일반적으로 **고정된 매개변수(frozen parameter)** 이라고 부릅니다.\n",
        "이러한 매개변수의 변화도가 필요하지 않다는 것을 미리 알고 있으면, 신경망 모델의 일부를 \"고정(freeze)\"하는 것이 유용합니다.\n",
        "(이렇게 하면 autograd 연산량을 줄임으로써 성능 상의 이득을 제공합니다.)\n",
        "\n",
        "DAG에서 제외하는 것이 중요한 또 다른 일반적인 사례(usecase)는\n",
        "`미리 학습된 모델을 미세조정 <https://tutorials.pytorch.kr/beginner/finetuning_torchvision_models_tutorial.html>`__\n",
        "하는 경우입니다.\n",
        "\n",
        "미세조정(finetuning)을 하는 과정에서, 새로운 정답(label)을 예측할 수 있도록 모델의 대부분을 고정한 뒤 일반적으로 분류 계층(classifier layer)만 변경합니다.\n",
        "이를 설명하기 위해 간단한 예제를 살펴보겠습니다. 이전과 마찬가지로 이미 학습된 resnet18 모델을 불러온 뒤 모든 매개변수를 고정합니다.\n",
        "\n"
      ]
    },
    {
      "cell_type": "code",
      "execution_count": null,
      "metadata": {
        "id": "FfhldVxZRtf5"
      },
      "outputs": [],
      "source": [
        "from torch import nn, optim\n",
        "\n",
        "model = torchvision.models.resnet18(pretrained=True)\n",
        "\n",
        "# 신경망의 모든 매개변수를 고정합니다\n",
        "for param in model.parameters():\n",
        "    param.requires_grad = False"
      ]
    },
    {
      "cell_type": "markdown",
      "metadata": {
        "id": "qGU3ux3WRtf5"
      },
      "source": [
        "10개의 정답(label)을 갖는 새로운 데이터셋으로 모델을 미세조정하는 상황을 가정해보겠습니다.\n",
        "resnet에서 분류기(classifier)는 마지막 선형 계층(linear layer)인 ``model.fc`` 입니다.\n",
        "이를 새로운 분류기로 동작할 (고정되지 않은) 새로운 선형 계층으로 간단히 대체하겠습니다.\n",
        "\n"
      ]
    },
    {
      "cell_type": "code",
      "execution_count": null,
      "metadata": {
        "id": "VlnYWTFxRtf5"
      },
      "outputs": [],
      "source": [
        "model.fc = nn.Linear(512, 10)"
      ]
    },
    {
      "cell_type": "markdown",
      "metadata": {
        "id": "Sh13D6_9Rtf5"
      },
      "source": [
        "이제 ``model.fc`` 를 제외한 모델의 모든 매개변수들이 고정되었습니다.\n",
        "변화도를 계산하는 유일한 매개변수는 ``model.fc`` 의 가중치(weight)와 편향(bias)뿐입니다.\n",
        "\n"
      ]
    },
    {
      "cell_type": "code",
      "execution_count": null,
      "metadata": {
        "id": "mm9vi2g4Rtf5"
      },
      "outputs": [],
      "source": [
        "# 분류기만 최적화합니다.\n",
        "optimizer = optim.SGD(model.parameters(), lr=1e-2, momentum=0.9)"
      ]
    },
    {
      "cell_type": "markdown",
      "metadata": {
        "id": "rPH9imv2Rtf6"
      },
      "source": [
        "옵티마이저(optimizer)에 모든 매개변수를 등록하더라도,\n",
        "변화도를 계산(하고 경사하강법으로 갱신)할 수 있는 매개변수들은 분류기의 가중치와 편향뿐입니다.\n",
        "\n",
        "컨텍스트 매니저(context manager)에 `torch.no_grad() <https://pytorch.org/docs/stable/generated/torch.no_grad.html>`__\n",
        "로도 똑같이 제외하는 기능을 사용할 수 있습니다.\n",
        "\n",
        "\n"
      ]
    },
    {
      "cell_type": "markdown",
      "metadata": {
        "id": "MzqUZpvZRtf6"
      },
      "source": [
        "--------------\n",
        "\n",
        "\n"
      ]
    },
    {
      "cell_type": "markdown",
      "metadata": {
        "id": "sbG0kvKkRtf6"
      },
      "source": [
        "더 읽어보기:\n",
        "~~~~~~~~~~~~~~~~~~~\n",
        "\n",
        "-  `In-place operations & Multithreaded Autograd <https://pytorch.org/docs/stable/notes/autograd.html>`__\n",
        "-  `Example implementation of reverse-mode autodiff <https://colab.research.google.com/drive/1VpeE6UvEPRz9HmsHh1KS0XxXjYu533EC>`__\n",
        "\n"
      ]
    }
  ],
  "metadata": {
    "kernelspec": {
      "display_name": "Python 3",
      "language": "python",
      "name": "python3"
    },
    "language_info": {
      "codemirror_mode": {
        "name": "ipython",
        "version": 3
      },
      "file_extension": ".py",
      "mimetype": "text/x-python",
      "name": "python",
      "nbconvert_exporter": "python",
      "pygments_lexer": "ipython3",
      "version": "3.8.8"
    },
    "colab": {
      "name": "(2) autograd_tutorial.ipynb",
      "provenance": [],
      "include_colab_link": true
    },
    "widgets": {
      "application/vnd.jupyter.widget-state+json": {
        "57ef68ab816341d7b02d3d25ff2e73da": {
          "model_module": "@jupyter-widgets/controls",
          "model_name": "HBoxModel",
          "model_module_version": "1.5.0",
          "state": {
            "_view_name": "HBoxView",
            "_dom_classes": [],
            "_model_name": "HBoxModel",
            "_view_module": "@jupyter-widgets/controls",
            "_model_module_version": "1.5.0",
            "_view_count": null,
            "_view_module_version": "1.5.0",
            "box_style": "",
            "layout": "IPY_MODEL_d8cc190fca3141f2b49fc1d1f48fea00",
            "_model_module": "@jupyter-widgets/controls",
            "children": [
              "IPY_MODEL_b8aa9645e29847c39ba1178439480e6f",
              "IPY_MODEL_1f8f04f608e4441088c9bcdfc2dd1eab",
              "IPY_MODEL_5d1b949ee1d04c44b022c43f58e67b02"
            ]
          }
        },
        "d8cc190fca3141f2b49fc1d1f48fea00": {
          "model_module": "@jupyter-widgets/base",
          "model_name": "LayoutModel",
          "model_module_version": "1.2.0",
          "state": {
            "_view_name": "LayoutView",
            "grid_template_rows": null,
            "right": null,
            "justify_content": null,
            "_view_module": "@jupyter-widgets/base",
            "overflow": null,
            "_model_module_version": "1.2.0",
            "_view_count": null,
            "flex_flow": null,
            "width": null,
            "min_width": null,
            "border": null,
            "align_items": null,
            "bottom": null,
            "_model_module": "@jupyter-widgets/base",
            "top": null,
            "grid_column": null,
            "overflow_y": null,
            "overflow_x": null,
            "grid_auto_flow": null,
            "grid_area": null,
            "grid_template_columns": null,
            "flex": null,
            "_model_name": "LayoutModel",
            "justify_items": null,
            "grid_row": null,
            "max_height": null,
            "align_content": null,
            "visibility": null,
            "align_self": null,
            "height": null,
            "min_height": null,
            "padding": null,
            "grid_auto_rows": null,
            "grid_gap": null,
            "max_width": null,
            "order": null,
            "_view_module_version": "1.2.0",
            "grid_template_areas": null,
            "object_position": null,
            "object_fit": null,
            "grid_auto_columns": null,
            "margin": null,
            "display": null,
            "left": null
          }
        },
        "b8aa9645e29847c39ba1178439480e6f": {
          "model_module": "@jupyter-widgets/controls",
          "model_name": "HTMLModel",
          "model_module_version": "1.5.0",
          "state": {
            "_view_name": "HTMLView",
            "style": "IPY_MODEL_24f53089657448bf9b439e8895ccf178",
            "_dom_classes": [],
            "description": "",
            "_model_name": "HTMLModel",
            "placeholder": "​",
            "_view_module": "@jupyter-widgets/controls",
            "_model_module_version": "1.5.0",
            "value": "100%",
            "_view_count": null,
            "_view_module_version": "1.5.0",
            "description_tooltip": null,
            "_model_module": "@jupyter-widgets/controls",
            "layout": "IPY_MODEL_d44e3008635b466e97e1edb2d5494bd1"
          }
        },
        "1f8f04f608e4441088c9bcdfc2dd1eab": {
          "model_module": "@jupyter-widgets/controls",
          "model_name": "FloatProgressModel",
          "model_module_version": "1.5.0",
          "state": {
            "_view_name": "ProgressView",
            "style": "IPY_MODEL_f5c1539e820d487a943709681c0aa8ea",
            "_dom_classes": [],
            "description": "",
            "_model_name": "FloatProgressModel",
            "bar_style": "success",
            "max": 46830571,
            "_view_module": "@jupyter-widgets/controls",
            "_model_module_version": "1.5.0",
            "value": 46830571,
            "_view_count": null,
            "_view_module_version": "1.5.0",
            "orientation": "horizontal",
            "min": 0,
            "description_tooltip": null,
            "_model_module": "@jupyter-widgets/controls",
            "layout": "IPY_MODEL_99a9ccdf868a41fd94b475295bf4e7f0"
          }
        },
        "5d1b949ee1d04c44b022c43f58e67b02": {
          "model_module": "@jupyter-widgets/controls",
          "model_name": "HTMLModel",
          "model_module_version": "1.5.0",
          "state": {
            "_view_name": "HTMLView",
            "style": "IPY_MODEL_0cfe9673fadc413e8c56c90e06b2bb4c",
            "_dom_classes": [],
            "description": "",
            "_model_name": "HTMLModel",
            "placeholder": "​",
            "_view_module": "@jupyter-widgets/controls",
            "_model_module_version": "1.5.0",
            "value": " 44.7M/44.7M [00:01&lt;00:00, 53.2MB/s]",
            "_view_count": null,
            "_view_module_version": "1.5.0",
            "description_tooltip": null,
            "_model_module": "@jupyter-widgets/controls",
            "layout": "IPY_MODEL_4b6f5c0d0c794f41a9e6271cb47d536a"
          }
        },
        "24f53089657448bf9b439e8895ccf178": {
          "model_module": "@jupyter-widgets/controls",
          "model_name": "DescriptionStyleModel",
          "model_module_version": "1.5.0",
          "state": {
            "_view_name": "StyleView",
            "_model_name": "DescriptionStyleModel",
            "description_width": "",
            "_view_module": "@jupyter-widgets/base",
            "_model_module_version": "1.5.0",
            "_view_count": null,
            "_view_module_version": "1.2.0",
            "_model_module": "@jupyter-widgets/controls"
          }
        },
        "d44e3008635b466e97e1edb2d5494bd1": {
          "model_module": "@jupyter-widgets/base",
          "model_name": "LayoutModel",
          "model_module_version": "1.2.0",
          "state": {
            "_view_name": "LayoutView",
            "grid_template_rows": null,
            "right": null,
            "justify_content": null,
            "_view_module": "@jupyter-widgets/base",
            "overflow": null,
            "_model_module_version": "1.2.0",
            "_view_count": null,
            "flex_flow": null,
            "width": null,
            "min_width": null,
            "border": null,
            "align_items": null,
            "bottom": null,
            "_model_module": "@jupyter-widgets/base",
            "top": null,
            "grid_column": null,
            "overflow_y": null,
            "overflow_x": null,
            "grid_auto_flow": null,
            "grid_area": null,
            "grid_template_columns": null,
            "flex": null,
            "_model_name": "LayoutModel",
            "justify_items": null,
            "grid_row": null,
            "max_height": null,
            "align_content": null,
            "visibility": null,
            "align_self": null,
            "height": null,
            "min_height": null,
            "padding": null,
            "grid_auto_rows": null,
            "grid_gap": null,
            "max_width": null,
            "order": null,
            "_view_module_version": "1.2.0",
            "grid_template_areas": null,
            "object_position": null,
            "object_fit": null,
            "grid_auto_columns": null,
            "margin": null,
            "display": null,
            "left": null
          }
        },
        "f5c1539e820d487a943709681c0aa8ea": {
          "model_module": "@jupyter-widgets/controls",
          "model_name": "ProgressStyleModel",
          "model_module_version": "1.5.0",
          "state": {
            "_view_name": "StyleView",
            "_model_name": "ProgressStyleModel",
            "description_width": "",
            "_view_module": "@jupyter-widgets/base",
            "_model_module_version": "1.5.0",
            "_view_count": null,
            "_view_module_version": "1.2.0",
            "bar_color": null,
            "_model_module": "@jupyter-widgets/controls"
          }
        },
        "99a9ccdf868a41fd94b475295bf4e7f0": {
          "model_module": "@jupyter-widgets/base",
          "model_name": "LayoutModel",
          "model_module_version": "1.2.0",
          "state": {
            "_view_name": "LayoutView",
            "grid_template_rows": null,
            "right": null,
            "justify_content": null,
            "_view_module": "@jupyter-widgets/base",
            "overflow": null,
            "_model_module_version": "1.2.0",
            "_view_count": null,
            "flex_flow": null,
            "width": null,
            "min_width": null,
            "border": null,
            "align_items": null,
            "bottom": null,
            "_model_module": "@jupyter-widgets/base",
            "top": null,
            "grid_column": null,
            "overflow_y": null,
            "overflow_x": null,
            "grid_auto_flow": null,
            "grid_area": null,
            "grid_template_columns": null,
            "flex": null,
            "_model_name": "LayoutModel",
            "justify_items": null,
            "grid_row": null,
            "max_height": null,
            "align_content": null,
            "visibility": null,
            "align_self": null,
            "height": null,
            "min_height": null,
            "padding": null,
            "grid_auto_rows": null,
            "grid_gap": null,
            "max_width": null,
            "order": null,
            "_view_module_version": "1.2.0",
            "grid_template_areas": null,
            "object_position": null,
            "object_fit": null,
            "grid_auto_columns": null,
            "margin": null,
            "display": null,
            "left": null
          }
        },
        "0cfe9673fadc413e8c56c90e06b2bb4c": {
          "model_module": "@jupyter-widgets/controls",
          "model_name": "DescriptionStyleModel",
          "model_module_version": "1.5.0",
          "state": {
            "_view_name": "StyleView",
            "_model_name": "DescriptionStyleModel",
            "description_width": "",
            "_view_module": "@jupyter-widgets/base",
            "_model_module_version": "1.5.0",
            "_view_count": null,
            "_view_module_version": "1.2.0",
            "_model_module": "@jupyter-widgets/controls"
          }
        },
        "4b6f5c0d0c794f41a9e6271cb47d536a": {
          "model_module": "@jupyter-widgets/base",
          "model_name": "LayoutModel",
          "model_module_version": "1.2.0",
          "state": {
            "_view_name": "LayoutView",
            "grid_template_rows": null,
            "right": null,
            "justify_content": null,
            "_view_module": "@jupyter-widgets/base",
            "overflow": null,
            "_model_module_version": "1.2.0",
            "_view_count": null,
            "flex_flow": null,
            "width": null,
            "min_width": null,
            "border": null,
            "align_items": null,
            "bottom": null,
            "_model_module": "@jupyter-widgets/base",
            "top": null,
            "grid_column": null,
            "overflow_y": null,
            "overflow_x": null,
            "grid_auto_flow": null,
            "grid_area": null,
            "grid_template_columns": null,
            "flex": null,
            "_model_name": "LayoutModel",
            "justify_items": null,
            "grid_row": null,
            "max_height": null,
            "align_content": null,
            "visibility": null,
            "align_self": null,
            "height": null,
            "min_height": null,
            "padding": null,
            "grid_auto_rows": null,
            "grid_gap": null,
            "max_width": null,
            "order": null,
            "_view_module_version": "1.2.0",
            "grid_template_areas": null,
            "object_position": null,
            "object_fit": null,
            "grid_auto_columns": null,
            "margin": null,
            "display": null,
            "left": null
          }
        }
      }
    }
  },
  "nbformat": 4,
  "nbformat_minor": 0
}
