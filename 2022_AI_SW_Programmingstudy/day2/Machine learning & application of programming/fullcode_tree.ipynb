{
  "nbformat": 4,
  "nbformat_minor": 0,
  "metadata": {
    "colab": {
      "name": "tree_full code.ipynb",
      "provenance": [],
      "authorship_tag": "ABX9TyNA+Je+z8Qts3Yog9RdQxFn",
      "include_colab_link": true
    },
    "kernelspec": {
      "name": "python3",
      "display_name": "Python 3"
    },
    "language_info": {
      "name": "python"
    }
  },
  "cells": [
    {
      "cell_type": "markdown",
      "metadata": {
        "id": "view-in-github",
        "colab_type": "text"
      },
      "source": [
        "<a href=\"https://colab.research.google.com/github/kimheeseo/2022_AI_SW_Programmingstudy/blob/main/tree_full_code.ipynb\" target=\"_parent\"><img src=\"https://colab.research.google.com/assets/colab-badge.svg\" alt=\"Open In Colab\"/></a>"
      ]
    },
    {
      "cell_type": "code",
      "execution_count": 2,
      "metadata": {
        "id": "AVDdOeYOWsRM"
      },
      "outputs": [],
      "source": [
        "# libraries\n",
        "import numpy as np\n",
        "import scipy as sp\n",
        "import pandas as pd\n",
        "import matplotlib.pyplot as plt\n",
        "from sklearn.model_selection import train_test_split\n",
        "%matplotlib inline\n",
        "\n",
        "###########################################################\n",
        "# Classification Tree\n",
        "###########################################################\n",
        "\n",
        "# read data from file\n",
        "df = pd.read_csv('data01_iris.csv')\n",
        "X = df.iloc[:,:-1]\n",
        "Y = df['Species']\n",
        "xtrain, xtest, ytrain, ytest = train_test_split(X,Y,test_size=0.4,random_state=1) \n",
        "\n",
        "# classification tree\n",
        "from sklearn.tree import DecisionTreeClassifier\n",
        "clf = DecisionTreeClassifier()\n",
        "clf.fit(xtrain,ytrain)\n",
        "yhat_train = clf.predict(xtrain)\n",
        "yhat_train_prob = clf.predict_proba(xtrain)\n",
        "yhat_test = clf.predict(xtest)\n",
        "yhat_test_prob = clf.predict_proba(xtest)\n",
        "clf.score(xtrain,ytrain)\n",
        "clf.score(xtest,ytest)\n",
        "\n",
        "# make data dirty\n",
        "np.random.seed(0)\n",
        "xtrain2 = xtrain + np.random.randn(np.prod(xtrain.shape)).reshape(90,4)\n",
        "xtest2 = xtest + np.random.randn(np.prod(xtest.shape)).reshape(60,4)\n",
        "\n",
        "# classification tree\n",
        "clf = DecisionTreeClassifier(max_leaf_nodes=None) # change max_leaef_nodes\n",
        "clf.fit(xtrain2,ytrain)\n",
        "clf.score(xtrain2,ytrain)\n",
        "clf.score(xtest2,ytest)\n",
        "\n",
        "# visualization\n",
        "from sklearn.tree import export_graphviz\n",
        "export_graphviz(clf,out_file='tree.dot', max_depth=None,\n",
        "                feature_names=xtrain.columns,\n",
        "                class_names=['setosa','versicolor','virginica'])\n",
        "# to visualize, use http://www.webgraphviz.com/ or other tools\n",
        "\n",
        "\n",
        "###########################################################\n",
        "# Regression Tree\n",
        "###########################################################\n",
        "\n",
        "# read data\n",
        "df = pd.read_csv('data05_boston.csv')\n",
        "X, Y = df.iloc[:,:-1], df['medv']\n",
        "xtrain,xtest,ytrain,ytest = train_test_split(X,Y,test_size=0.33,random_state=0)\n",
        "\n",
        "# regression tree\n",
        "from sklearn.tree import DecisionTreeRegressor\n",
        "clf = DecisionTreeRegressor(max_leaf_nodes=None) # change max_leaf_nodes\n",
        "clf.fit(xtrain,ytrain)\n",
        "clf.score(xtrain,ytrain)\n",
        "clf.score(xtest,ytest)\n",
        "\n",
        "# linear regression\n",
        "from sklearn.linear_model import LinearRegression\n",
        "lm = LinearRegression()\n",
        "lm.fit(xtrain,ytrain)\n",
        "lm.score(xtrain,ytrain)\n",
        "lm.score(xtest,ytest)\n",
        "\n",
        "# visualization\n",
        "from sklearn.tree import export_graphviz\n",
        "export_graphviz(clf,out_file='tree.dot', max_depth=None,\n",
        "                feature_names=xtrain.columns,\n",
        "                class_names=['setosa','versicolor','virginica'])\n",
        "# to visualize, use http://www.webgraphviz.com/ or other tools"
      ]
    }
  ]
}
