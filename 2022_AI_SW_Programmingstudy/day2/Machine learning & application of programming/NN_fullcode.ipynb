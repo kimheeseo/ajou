{
  "nbformat": 4,
  "nbformat_minor": 0,
  "metadata": {
    "colab": {
      "name": "NN_fullcode.ipynb",
      "provenance": [],
      "authorship_tag": "ABX9TyNOMrOTv688k7we1Mvmavgf",
      "include_colab_link": true
    },
    "kernelspec": {
      "name": "python3",
      "display_name": "Python 3"
    },
    "language_info": {
      "name": "python"
    }
  },
  "cells": [
    {
      "cell_type": "markdown",
      "metadata": {
        "id": "view-in-github",
        "colab_type": "text"
      },
      "source": [
        "<a href=\"https://colab.research.google.com/github/kimheeseo/2022_AI_SW_Programmingstudy/blob/main/NN_fullcode.ipynb\" target=\"_parent\"><img src=\"https://colab.research.google.com/assets/colab-badge.svg\" alt=\"Open In Colab\"/></a>"
      ]
    },
    {
      "cell_type": "code",
      "execution_count": 1,
      "metadata": {
        "colab": {
          "base_uri": "https://localhost:8080/"
        },
        "id": "nJJhJf8RmEd1",
        "outputId": "0ef372a5-516b-4e6a-933e-102062c40241"
      },
      "outputs": [
        {
          "output_type": "stream",
          "name": "stdout",
          "text": [
            "[1 0 1 0 1 0 1 1 1 1 1 0 1 1 1 1 0 1 1 0 1 1 1 1 0 0 1 1 1 1 1 0 1 1 0 1 0\n",
            " 1 1 1]\n"
          ]
        },
        {
          "output_type": "execute_result",
          "data": {
            "text/plain": [
              "0.4290327348217634"
            ]
          },
          "metadata": {},
          "execution_count": 1
        }
      ],
      "source": [
        "# libraries\n",
        "import numpy as np\n",
        "import scipy as sp\n",
        "import pandas as pd\n",
        "import matplotlib.pyplot as plt\n",
        "from sklearn.model_selection import train_test_split\n",
        "from sklearn.model_selection import cross_val_score\n",
        "%matplotlib inline\n",
        "\n",
        "###########################################################\n",
        "# Neural Network for Classification\n",
        "###########################################################\n",
        "\n",
        "# read data from file\n",
        "df = pd.read_csv('data06_iris2.csv')\n",
        "X = df.iloc[:,:-1]\n",
        "Y = df['Species']\n",
        "xtrain, xtest, ytrain, ytest = train_test_split(X,Y,test_size=0.4,random_state=1) \n",
        "\n",
        "# neural network\n",
        "from sklearn.neural_network import MLPClassifier\n",
        "nn = MLPClassifier(\n",
        "        hidden_layer_sizes = (2,2),\n",
        "        activation = 'logistic',\n",
        "        solver = 'lbfgs', # for small data set, sgd/adam for large data set\n",
        "        alpha = 0.0001, # L2 regularization\n",
        "        batch_size = 'auto',\n",
        "        learning_rate = 'constant',\n",
        "        learning_rate_init = 0.001,\n",
        "        random_state = 0,\n",
        "        max_iter = 1000)\n",
        "nn.fit(xtrain,ytrain)\n",
        "yhat_test = nn.predict(xtest)\n",
        "yhat_test_prob = nn.predict_proba(xtest)\n",
        "print(yhat_test)\n",
        "nn.score(xtrain,ytrain)\n",
        "nn.score(xtest,ytest)\n",
        "\n",
        "nn.coefs_\n",
        "nn.intercepts_\n",
        "\n",
        "###########################################################\n",
        "# Nueral Network for Regression\n",
        "###########################################################\n",
        "\n",
        "# read data\n",
        "df = pd.read_csv('data07_diabetes.csv')\n",
        "X = df.iloc[:,:-1]\n",
        "y = df['Y']\n",
        "xtrain,xtest,ytrain,ytest = train_test_split(X,y,test_size=0.33,random_state=1)\n",
        "\n",
        "# neural network\n",
        "from sklearn.neural_network import MLPRegressor\n",
        "nn = MLPRegressor(\n",
        "        hidden_layer_sizes = (2,2),\n",
        "        activation = 'relu',\n",
        "        solver = 'lbfgs', \n",
        "        alpha = 0.0001,\n",
        "        batch_size = 'auto',\n",
        "        learning_rate = 'constant',\n",
        "        learning_rate_init = 0.001,\n",
        "        random_state = 0,\n",
        "        max_iter = 10000)\n",
        "nn.fit(xtrain,ytrain)\n",
        "yhat_test = nn.predict(xtest)\n",
        "nn.score(xtrain,ytrain)\n",
        "nn.score(xtest,ytest)"
      ]
    }
  ]
}
