{
  "nbformat": 4,
  "nbformat_minor": 0,
  "metadata": {
    "colab": {
      "name": "practice_ensemble.ipynb",
      "provenance": [],
      "authorship_tag": "ABX9TyMQADGzkCljhnCtp3TpUHfC",
      "include_colab_link": true
    },
    "kernelspec": {
      "name": "python3",
      "display_name": "Python 3"
    },
    "language_info": {
      "name": "python"
    }
  },
  "cells": [
    {
      "cell_type": "markdown",
      "metadata": {
        "id": "view-in-github",
        "colab_type": "text"
      },
      "source": [
        "<a href=\"https://colab.research.google.com/github/kimheeseo/2022_AI_SW_Programmingstudy/blob/main/practice_ensemble.ipynb\" target=\"_parent\"><img src=\"https://colab.research.google.com/assets/colab-badge.svg\" alt=\"Open In Colab\"/></a>"
      ]
    },
    {
      "cell_type": "code",
      "source": [
        "# libraries\n",
        "import numpy as np\n",
        "import scipy as sp\n",
        "import pandas as pd\n",
        "import matplotlib.pyplot as plt\n",
        "from sklearn.model_selection import train_test_split\n",
        "from sklearn.model_selection import cross_val_score\n",
        "%matplotlib inline\n",
        "\n",
        "# read data\n",
        "df = pd.read_csv('data07_diabetes.csv')\n",
        "X = df.iloc[:,:-1]\n",
        "y = df['Y']\n",
        "xtrain,xtest,ytrain,ytest = train_test_split(X,y,test_size=0.5,random_state=1)"
      ],
      "metadata": {
        "id": "jyuOzbfSZggv"
      },
      "execution_count": 2,
      "outputs": []
    },
    {
      "cell_type": "markdown",
      "source": [
        "# **Bagging Methods**"
      ],
      "metadata": {
        "id": "GmFn_jiRZiNJ"
      }
    },
    {
      "cell_type": "code",
      "source": [
        "from sklearn.ensemble import BaggingRegressor\n",
        "from sklearn.neighbors import KNeighborsRegressor\n",
        "knn = KNeighborsRegressor(n_neighbors=5)\n",
        "\n",
        "# usual knn\n",
        "knn.fit(xtrain,ytrain)\n",
        "knn.score(xtrain,ytrain)\n",
        "knn.score(xtest,ytest)\n",
        "print(knn.score(xtest,ytest))\n",
        "print(knn.score(xtrain,ytrain))"
      ],
      "metadata": {
        "colab": {
          "base_uri": "https://localhost:8080/"
        },
        "id": "0FY9rfoWaFHs",
        "outputId": "b971c54e-0bd9-4c29-aae2-1998b5ed4b99"
      },
      "execution_count": 3,
      "outputs": [
        {
          "output_type": "stream",
          "name": "stdout",
          "text": [
            "0.30194445005036563\n",
            "0.6447443202247629\n"
          ]
        }
      ]
    },
    {
      "cell_type": "markdown",
      "source": [
        "# **full bagging**"
      ],
      "metadata": {
        "id": "AMtruaKyaRa9"
      }
    },
    {
      "cell_type": "code",
      "source": [
        "bf = BaggingRegressor(knn,n_estimators=100,max_samples=1.0,max_features=1.0,random_state=0) #bagging을 100개 한다는 의미\n",
        "bf.fit(xtrain,ytrain)\n",
        "bf.score(xtrain,ytrain)\n",
        "bf.score(xtest,ytest)\n",
        "print(bf.score(xtrain,ytrain),bf.score(xtest,ytest))"
      ],
      "metadata": {
        "colab": {
          "base_uri": "https://localhost:8080/"
        },
        "id": "e2tna9AZaQPD",
        "outputId": "f6b91ba4-f4b6-4dfc-98ca-cbff52d19121"
      },
      "execution_count": 5,
      "outputs": [
        {
          "output_type": "stream",
          "name": "stdout",
          "text": [
            "0.673701636213444 0.34106207785208675\n"
          ]
        }
      ]
    },
    {
      "cell_type": "markdown",
      "source": [
        "# **bagging with subsampling and feature randomization**"
      ],
      "metadata": {
        "id": "ckOmruGZbCxn"
      }
    },
    {
      "cell_type": "code",
      "source": [
        "bf = BaggingRegressor(knn,n_estimators=500,max_samples=0.5,max_features=0.5)\n",
        "bf.fit(xtrain,ytrain)\n",
        "bf.score(xtrain,ytrain)\n",
        "bf.score(xtest,ytest)\n",
        "print(bf.score(xtrain,ytrain),bf.score(xtest,ytest)) #full baggin에 비해, train값의 성능은 떨어지고, test값의 성능 향상."
      ],
      "metadata": {
        "colab": {
          "base_uri": "https://localhost:8080/"
        },
        "id": "3MKZJv84bBAO",
        "outputId": "8c28aff1-a567-4a1d-fda1-9b60b997034b"
      },
      "execution_count": 6,
      "outputs": [
        {
          "output_type": "stream",
          "name": "stdout",
          "text": [
            "0.5842150464827915 0.3703466234035293\n"
          ]
        }
      ]
    },
    {
      "cell_type": "markdown",
      "source": [
        "# **effect of estimators**"
      ],
      "metadata": {
        "id": "74tW_7bJbXpM"
      }
    },
    {
      "cell_type": "code",
      "source": [
        "np.random.seed(0)\n",
        "n_list = [1,5,10,20,30,50,100,200,500,1000]\n",
        "s = np.zeros((len(n_list),2))\n",
        "for i in range(len(n_list)):\n",
        "    bf = BaggingRegressor(knn,n_estimators=n_list[i],max_samples=0.5,max_features=0.5)\n",
        "    bf.fit(xtrain,ytrain)\n",
        "    s[i,0] = bf.score(xtrain,ytrain)\n",
        "    s[i,1] = bf.score(xtest,ytest)\n",
        "plt.plot(np.log10(n_list),s,marker='o') #파란색이 train, 주황색이 test, 각각의 값의 차이가 계속 유지된다.\n",
        "#즉, 적정 수준 도달 시 성능의 큰 개선 없음."
      ],
      "metadata": {
        "colab": {
          "base_uri": "https://localhost:8080/",
          "height": 302
        },
        "id": "BOWWPTcwbWtZ",
        "outputId": "91b60376-e368-4ba9-9773-d6d9643c2985"
      },
      "execution_count": 7,
      "outputs": [
        {
          "output_type": "execute_result",
          "data": {
            "text/plain": [
              "[<matplotlib.lines.Line2D at 0x7f0fed2e49d0>,\n",
              " <matplotlib.lines.Line2D at 0x7f0fed30ffd0>]"
            ]
          },
          "metadata": {},
          "execution_count": 7
        },
        {
          "output_type": "display_data",
          "data": {
            "image/png": "[encoded data removed]",
            "text/plain": [
              "<Figure size 432x288 with 1 Axes>"
            ]
          },
          "metadata": {
            "needs_background": "light"
          }
        }
      ]
    },
    {
      "cell_type": "markdown",
      "source": [
        "# **parameter tunning**"
      ],
      "metadata": {
        "id": "XZR2_EjwbxYV"
      }
    },
    {
      "cell_type": "code",
      "execution_count": 8,
      "metadata": {
        "colab": {
          "base_uri": "https://localhost:8080/",
          "height": 321
        },
        "id": "P-j-Nn_YZQxv",
        "outputId": "4e88cb9e-0e33-4a84-ed5a-f66cf4f1072d"
      },
      "outputs": [
        {
          "output_type": "execute_result",
          "data": {
            "text/plain": [
              "[<matplotlib.lines.Line2D at 0x7f0fecdf7390>,\n",
              " <matplotlib.lines.Line2D at 0x7f0fecdf7910>,\n",
              " <matplotlib.lines.Line2D at 0x7f0fecdf7750>]"
            ]
          },
          "metadata": {},
          "execution_count": 8
        },
        {
          "output_type": "display_data",
          "data": {
            "image/png": "[encoded data removed]",
            "text/plain": [
              "<Figure size 432x288 with 1 Axes>"
            ]
          },
          "metadata": {
            "needs_background": "light"
          }
        }
      ],
      "source": [
        "#Bagging 자체에서는 parameter tunning이 없다.\n",
        "np.random.seed(1)\n",
        "params = np.arange(2,20,2)\n",
        "s = np.zeros((len(params),3))\n",
        "for i in range(len(params)):\n",
        "    f = BaggingRegressor(KNeighborsRegressor(params[i]),n_estimators=200,#base 모델(KNeighborsRegressor(params[i]))을 직접 tunning한다.\n",
        "                          random_state=0,max_samples=0.5,max_features=0.5,oob_score=True)\n",
        "    f.fit(xtrain,ytrain)\n",
        "    s[i,0] = f.score(xtrain,ytrain)\n",
        "    s[i,1] = cross_val_score(f,xtrain,ytrain,cv=5).mean()#cross validation form : cross_val_score\n",
        "    s[i,2] = f.score(xtest,ytest)\n",
        "plt.plot(s)\n",
        "#파란색 : train, 주황색 : cross_validation, 녹색 : test"
      ]
    },
    {
      "cell_type": "markdown",
      "source": [
        "# **Random Forest**"
      ],
      "metadata": {
        "id": "H1UXaiE2ckes"
      }
    },
    {
      "cell_type": "code",
      "source": [
        "from sklearn.ensemble import RandomForestRegressor\n",
        "rf = RandomForestRegressor(n_estimators=100,random_state=0)\n",
        "rf.fit(xtrain,ytrain)\n",
        "yhat_test = rf.predict(xtest)\n",
        "rf.score(xtrain,ytrain)\n",
        "rf.score(xtest,ytest)\n",
        "\n",
        "print(rf.score(xtrain,ytrain),rf.score(xtest,ytest))"
      ],
      "metadata": {
        "colab": {
          "base_uri": "https://localhost:8080/"
        },
        "id": "rfn4WHIxaFNl",
        "outputId": "b6822fac-dba6-447e-aaba-81270b7faba8"
      },
      "execution_count": 9,
      "outputs": [
        {
          "output_type": "stream",
          "name": "stdout",
          "text": [
            "0.9344222892222186 0.26652306720579266\n"
          ]
        }
      ]
    },
    {
      "cell_type": "markdown",
      "source": [
        "# **number of features to be chosen**"
      ],
      "metadata": {
        "id": "TIAfX1wHdYuI"
      }
    },
    {
      "cell_type": "code",
      "source": [
        "rf = RandomForestRegressor(n_estimators=100,random_state=0,max_features='sqrt') \n",
        "rf.fit(xtrain,ytrain)\n",
        "rf.score(xtrain,ytrain)\n",
        "rf.score(xtest,ytest)\n",
        "print(rf.score(xtrain,ytrain),rf.score(xtest,ytest))"
      ],
      "metadata": {
        "colab": {
          "base_uri": "https://localhost:8080/"
        },
        "id": "X6vwBBOfc9JL",
        "outputId": "8a5a61be-d2b4-4023-868c-4a57cbe6db4c"
      },
      "execution_count": 10,
      "outputs": [
        {
          "output_type": "stream",
          "name": "stdout",
          "text": [
            "0.9307158003923464 0.32452479852142846\n"
          ]
        }
      ]
    },
    {
      "cell_type": "markdown",
      "source": [
        "# **tree size**"
      ],
      "metadata": {
        "id": "3BRUN6jmdcfj"
      }
    },
    {
      "cell_type": "code",
      "source": [
        "rf = RandomForestRegressor(n_estimators=100,random_state=0,\n",
        "                           max_features='sqrt',max_leaf_nodes=100)#sqrt : 루트, 하나의 트리에 최대 100개의 leaf가능\n",
        "rf.fit(xtrain,ytrain)\n",
        "rf.score(xtrain,ytrain)\n",
        "rf.score(xtest,ytest)\n",
        "print(rf.score(xtrain,ytrain),rf.score(xtest,ytest))"
      ],
      "metadata": {
        "colab": {
          "base_uri": "https://localhost:8080/"
        },
        "id": "Vmgqy4DcdhPp",
        "outputId": "f2f79143-f5e4-4996-f717-c63ac229e230"
      },
      "execution_count": 11,
      "outputs": [
        {
          "output_type": "stream",
          "name": "stdout",
          "text": [
            "0.934844542444828 0.3186232382873758\n"
          ]
        }
      ]
    },
    {
      "cell_type": "markdown",
      "source": [
        "# **oob score**"
      ],
      "metadata": {
        "id": "MMXVtTc6dmhZ"
      }
    },
    {
      "cell_type": "code",
      "source": [
        "#oob score : cross_validation을 빨리 한 것.\n",
        "rf = RandomForestRegressor(n_estimators=100,random_state=0,\n",
        "                           max_features='sqrt',max_leaf_nodes=100,\n",
        "                           oob_score=True)\n",
        "rf.fit(xtrain,ytrain)\n",
        "rf.score(xtrain,ytrain)\n",
        "rf.score(xtest,ytest)\n",
        "rf.oob_score_  # out-of-bag score"
      ],
      "metadata": {
        "id": "un0M4c-9djER"
      },
      "execution_count": null,
      "outputs": []
    },
    {
      "cell_type": "markdown",
      "source": [
        "# **parameter tuning using oob scores**"
      ],
      "metadata": {
        "id": "vE5tMALEdtib"
      }
    },
    {
      "cell_type": "code",
      "source": [
        "tree_size = np.arange(2,50,2)\n",
        "s = np.zeros((len(tree_size),4))\n",
        "for i in range(len(tree_size)):\n",
        "    rf = RandomForestRegressor(n_estimators=100,random_state=0,\n",
        "                           max_features='sqrt',max_leaf_nodes=tree_size[i],\n",
        "                           oob_score=True)\n",
        "    rf.fit(xtrain,ytrain)\n",
        "    s[i,0] = rf.score(xtrain,ytrain)\n",
        "    s[i,1] = rf.oob_score_ \n",
        "    s[i,2] = cross_val_score(rf,xtrain,ytrain,cv=5).mean()\n",
        "    s[i,3] = rf.score(xtest,ytest)\n",
        "\n",
        "plt.plot(tree_size,s)"
      ],
      "metadata": {
        "colab": {
          "base_uri": "https://localhost:8080/",
          "height": 339
        },
        "id": "Ykp8rd3KdtTi",
        "outputId": "e6b6ab18-bcec-4af2-8a20-fd4a56b32fd1"
      },
      "execution_count": 12,
      "outputs": [
        {
          "output_type": "execute_result",
          "data": {
            "text/plain": [
              "[<matplotlib.lines.Line2D at 0x7f0fecc32610>,\n",
              " <matplotlib.lines.Line2D at 0x7f0fecc32850>,\n",
              " <matplotlib.lines.Line2D at 0x7f0fecc32a10>,\n",
              " <matplotlib.lines.Line2D at 0x7f0fecc32bd0>]"
            ]
          },
          "metadata": {},
          "execution_count": 12
        },
        {
          "output_type": "display_data",
          "data": {
            "image/png": "[encoded data removed]",
            "text/plain": [
              "<Figure size 432x288 with 1 Axes>"
            ]
          },
          "metadata": {
            "needs_background": "light"
          }
        }
      ]
    },
    {
      "cell_type": "code",
      "source": [
        "\n",
        "\n",
        "# \n",
        "\n",
        "\n",
        "# \n",
        "\n",
        "\n",
        "\n",
        "###########################################################\n",
        "# Gradient Boosted Tree\n",
        "###########################################################\n",
        "\n",
        "# gradient boosting regressor\n",
        "from sklearn.ensemble import GradientBoostingRegressor\n",
        "gb = GradientBoostingRegressor(learning_rate=0.1,n_estimators=100,max_depth=3)\n",
        "gb.fit(xtrain,ytrain)\n",
        "yhat_test = gb.predict(xtest)\n",
        "gb.score(xtrain,ytrain)\n",
        "gb.score(xtest,ytest)\n",
        "\n",
        "# number of estimators\n",
        "n_list = np.arange(2,200,2)\n",
        "s = np.zeros((len(n_list),3))\n",
        "for i in range(len(n_list)):\n",
        "    gb = GradientBoostingRegressor(learning_rate=0.1,\n",
        "                                   n_estimators=n_list[i],max_depth=3)\n",
        "    gb.fit(xtrain,ytrain)\n",
        "    s[i,0] = gb.score(xtrain,ytrain)\n",
        "    s[i,1] = cross_val_score(gb,xtrain,ytrain,cv=5).mean() \n",
        "    s[i,2] = gb.score(xtest,ytest)\n",
        "\n",
        "plt.plot(n_list,s)"
      ],
      "metadata": {
        "id": "ouqv1TfjdXlt"
      },
      "execution_count": null,
      "outputs": []
    }
  ]
}
