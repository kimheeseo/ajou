{
  "nbformat": 4,
  "nbformat_minor": 0,
  "metadata": {
    "colab": {
      "name": "practice_SVM.ipynb",
      "provenance": [],
      "authorship_tag": "ABX9TyMoW2zuPORkVizZvazEn5Z1",
      "include_colab_link": true
    },
    "kernelspec": {
      "name": "python3",
      "display_name": "Python 3"
    },
    "language_info": {
      "name": "python"
    }
  },
  "cells": [
    {
      "cell_type": "markdown",
      "metadata": {
        "id": "view-in-github",
        "colab_type": "text"
      },
      "source": [
        "<a href=\"https://colab.research.google.com/github/kimheeseo/2022_AI_SW_Programmingstudy/blob/main/practice_SVM.ipynb\" target=\"_parent\"><img src=\"https://colab.research.google.com/assets/colab-badge.svg\" alt=\"Open In Colab\"/></a>"
      ]
    },
    {
      "cell_type": "code",
      "source": [
        "# libraries\n",
        "import numpy as np\n",
        "import scipy as sp\n",
        "import pandas as pd\n",
        "import matplotlib.pyplot as plt\n",
        "from sklearn.model_selection import train_test_split\n",
        "from sklearn.model_selection import cross_val_score\n",
        "%matplotlib inline"
      ],
      "metadata": {
        "id": "nCJ9MZTvjwwb"
      },
      "execution_count": 2,
      "outputs": []
    },
    {
      "cell_type": "markdown",
      "source": [
        "# **Support Vector Machine**"
      ],
      "metadata": {
        "id": "_zBTbuYwj0nR"
      }
    },
    {
      "cell_type": "code",
      "source": [
        "# read data\n",
        "df = pd.read_csv('data07_diabetes.csv')\n",
        "X = df.iloc[:,:-1]\n",
        "y = (df['Y']>140).factorize()[0]\n",
        "xtrain,xtest,ytrain,ytest = train_test_split(X,y,test_size=0.33,random_state=0)"
      ],
      "metadata": {
        "id": "Jh1shLB7j7RL"
      },
      "execution_count": 3,
      "outputs": []
    },
    {
      "cell_type": "markdown",
      "source": [
        "# **SVM**"
      ],
      "metadata": {
        "id": "lq0GiOMKkGlI"
      }
    },
    {
      "cell_type": "code",
      "source": [
        "from sklearn.svm import SVC\n",
        "f = SVC(C=5,kernel='poly',probability=True) #C : soft margin에 대한 내용, kerne의 경우, poly와 rbf를 주로 사용한다.\n",
        "f.fit(xtrain,ytrain)\n",
        "f.predict(xtest)\n",
        "f.predict_proba(xtest)\n",
        "f.score(xtrain,ytrain)\n",
        "f.score(xtest,ytest)\n",
        "#참고사이트 : https://scikit-learn.org/stable/modules/generated/sklearn.svm.SVC.html\n",
        "#SVM = maximal margin + soft Margin + kernel"
      ],
      "metadata": {
        "colab": {
          "base_uri": "https://localhost:8080/"
        },
        "id": "g8dnLym6kFLY",
        "outputId": "11bd3923-2856-4f43-c456-cb3e7765c419"
      },
      "execution_count": 8,
      "outputs": [
        {
          "output_type": "execute_result",
          "data": {
            "text/plain": [
              "0.6712328767123288"
            ]
          },
          "metadata": {},
          "execution_count": 8
        }
      ]
    },
    {
      "cell_type": "code",
      "source": [
        "print(f.score(xtrain,ytrain), f.score(xtest,ytest))"
      ],
      "metadata": {
        "colab": {
          "base_uri": "https://localhost:8080/"
        },
        "id": "4ME4b_5CkRAT",
        "outputId": "0ea9b90c-2dc0-4d65-ebf1-cbe9b4883dc6"
      },
      "execution_count": 9,
      "outputs": [
        {
          "output_type": "stream",
          "name": "stdout",
          "text": [
            "0.8547297297297297 0.6712328767123288\n"
          ]
        }
      ]
    },
    {
      "cell_type": "markdown",
      "source": [
        "# **parameter tuning**"
      ],
      "metadata": {
        "id": "cMCEJV43k8La"
      }
    },
    {
      "cell_type": "code",
      "source": [
        "params = 10**np.linspace(2,10,num=50) #C=params[i] : 2^2부터 2^10까지 값으로 설정, 그값을 50개로 나눠서 진행\n",
        "s = np.zeros((len(params),3))\n",
        "for i in range(len(params)):\n",
        "    f = SVC(C=params[i],kernel='rbf',gamma=0.0001,random_state=0)#gamma와 kernel을 다음과 같이 설정하였다.\n",
        "    f.fit(xtrain,ytrain) \n",
        "    s[i,0] = f.score(xtrain,ytrain)\n",
        "    s[i,1] = cross_val_score(f,xtrain,ytrain,cv=5).mean()\n",
        "    s[i,2] = f.score(xtest,ytest)\n",
        "    \n",
        "plt.plot(np.log10(params),s) #결과값을 보면, 어느순간보다 성능이 좋아지는 것을 확인할 수 있다. "
      ],
      "metadata": {
        "colab": {
          "base_uri": "https://localhost:8080/",
          "height": 321
        },
        "id": "znLn_MOEk-dx",
        "outputId": "9271c5cf-1c35-4272-fac0-47e8705ba95b"
      },
      "execution_count": 11,
      "outputs": [
        {
          "output_type": "execute_result",
          "data": {
            "text/plain": [
              "[<matplotlib.lines.Line2D at 0x7f61b66a8f50>,\n",
              " <matplotlib.lines.Line2D at 0x7f61b66b51d0>,\n",
              " <matplotlib.lines.Line2D at 0x7f61b66b5390>]"
            ]
          },
          "metadata": {},
          "execution_count": 11
        },
        {
          "output_type": "display_data",
          "data": {
            "image/png": "[encoded data removed]",
            "text/plain": [
              "<Figure size 432x288 with 1 Axes>"
            ]
          },
          "metadata": {
            "needs_background": "light"
          }
        }
      ]
    },
    {
      "cell_type": "code",
      "source": [
        "params = 10**np.linspace(2,4,num=50)\n",
        "s = np.zeros((len(params),3))\n",
        "for i in range(len(params)):\n",
        "    f = SVC(C=params[i],kernel='rbf',gamma=0.0001,random_state=0)#gamma와 kernel을 다음과 같이 설정하였다.\n",
        "    f.fit(xtrain,ytrain) \n",
        "    s[i,0] = f.score(xtrain,ytrain)\n",
        "    s[i,1] = cross_val_score(f,xtrain,ytrain,cv=5).mean()\n",
        "    s[i,2] = f.score(xtest,ytest)\n",
        "    \n",
        "plt.plot(np.log10(params),s) #결과값을 보면, 어느순간보다 성능이 좋아지는 것을 확인할 수 있다. "
      ],
      "metadata": {
        "colab": {
          "base_uri": "https://localhost:8080/",
          "height": 321
        },
        "id": "6d22mpTIlecZ",
        "outputId": "a002d652-b991-43eb-ff00-2edc0eb9c946"
      },
      "execution_count": 13,
      "outputs": [
        {
          "output_type": "execute_result",
          "data": {
            "text/plain": [
              "[<matplotlib.lines.Line2D at 0x7f61b653d610>,\n",
              " <matplotlib.lines.Line2D at 0x7f61b653d850>,\n",
              " <matplotlib.lines.Line2D at 0x7f61b653da10>]"
            ]
          },
          "metadata": {},
          "execution_count": 13
        },
        {
          "output_type": "display_data",
          "data": {
            "image/png": "[encoded data removed]",
            "text/plain": [
              "<Figure size 432x288 with 1 Axes>"
            ]
          },
          "metadata": {
            "needs_background": "light"
          }
        }
      ]
    },
    {
      "cell_type": "markdown",
      "source": [
        "# **Support Vector Regression**"
      ],
      "metadata": {
        "id": "yJTmSdd3lzrL"
      }
    },
    {
      "cell_type": "code",
      "execution_count": null,
      "metadata": {
        "id": "Q0EM9YU6jtKv"
      },
      "outputs": [],
      "source": [
        "#나머지는 각자 알아서\n",
        "# read data\n",
        "df = pd.read_csv('data07_diabetes.csv')\n",
        "X = df.iloc[:,:-1]\n",
        "y = df['Y']\n",
        "xtrain,xtest,ytrain,ytest = train_test_split(X,y,test_size=0.33,random_state=0)\n",
        "\n",
        "# svr\n",
        "from sklearn.svm import SVR\n",
        "f = SVR(C=5,kernel='rbf')\n",
        "f.fit(xtrain,ytrain)\n",
        "f.predict(xtest)\n",
        "f.score(xtrain,ytrain)\n",
        "f.score(xtest,ytest)\n",
        "\n",
        "# parameter tuning\n",
        "params = 10**np.linspace(2,7,num=50)\n",
        "s = np.zeros((len(params),3))\n",
        "for i in range(len(params)):\n",
        "    f = SVR(C=params[i],kernel='rbf')\n",
        "    f.fit(xtrain,ytrain)\n",
        "    s[i,0] = f.score(xtrain,ytrain)\n",
        "    s[i,1] = cross_val_score(f,xtrain,ytrain,cv=5).mean()\n",
        "    s[i,2] = f.score(xtest,ytest)\n",
        "    \n",
        "plt.plot(np.log10(params),s)\n",
        "\n",
        "\n",
        "###########################################################\n",
        "# Practice\n",
        "###########################################################\n",
        "\n",
        "# read data\n",
        "df = pd.read_csv('data08_khan.csv',header=None)\n",
        "dfx = df.iloc[:,1:]\n",
        "dfy = df.iloc[:,0]\n",
        "xtrain, ytrain = dfx.iloc[:63,:], dfy[:63]\n",
        "xtest, ytest = dfx.iloc[63:,:], dfy[63:]\n",
        "\n",
        "# PLEASE DO NOT GO DOWN BEFORE YOU TRY BY YOURSELF\n",
        "\n",
        "###########################################################\n",
        "# Practice Reference Code\n",
        "###########################################################\n",
        "\n",
        "# read data\n",
        "df = pd.read_csv('data08_khan.csv',header=None)\n",
        "dfx = df.iloc[:,1:]\n",
        "dfy = df.iloc[:,0]\n",
        "xtrain, ytrain = dfx.iloc[:63,:], dfy[:63]\n",
        "xtest, ytest = dfx.iloc[63:,:], dfy[63:]\n",
        "\n",
        "# classification\n",
        "params = 10**np.linspace(-1,7,num=50)\n",
        "s = np.zeros((len(params),3))\n",
        "for i in range(len(params)):\n",
        "    f = SVC(C=params[i],kernel='rbf')\n",
        "    f.fit(xtrain,ytrain)\n",
        "    s[i,0] = f.score(xtrain,ytrain)\n",
        "    s[i,1] = cross_val_score(f,xtrain,ytrain,cv=5).mean()\n",
        "    s[i,2] = f.score(xtest,ytest)\n",
        "plt.plot(np.log10(params),s)\n",
        "\n",
        "# final predictor\n",
        "f = SVC(C=params[5],kernel='rbf')\n",
        "f.fit(xtrain,ytrain)\n",
        "yhat_test = f.predict(xtest)\n",
        "pd.crosstab(yhat_test,ytest)\n",
        "\n",
        "# regression\n",
        "params = 10**np.linspace(-3,3,num=10)\n",
        "s = np.zeros((len(params),3))\n",
        "for i in range(len(params)):\n",
        "    f = SVR(C=params[i],kernel='rbf')\n",
        "    f.fit(xtrain,ytrain)\n",
        "    s[i,0] = f.score(xtrain,ytrain)\n",
        "    s[i,1] = cross_val_score(f,xtrain,ytrain,cv=5).mean()\n",
        "    s[i,2] = f.score(xtest,ytest)\n",
        "plt.plot(np.log10(params),s)\n",
        "\n",
        "# final predictor\n",
        "f = SVR(C=params[6],kernel='rbf')\n",
        "f.fit(xtrain,ytrain)\n",
        "plt.plot(f.predict(xtest),ytest,'go')"
      ]
    }
  ]
}
