{
  "nbformat": 4,
  "nbformat_minor": 0,
  "metadata": {
    "colab": {
      "name": "SVM_fullcode.ipynb",
      "provenance": [],
      "authorship_tag": "ABX9TyOhZpYK4DH3ulrIe2zRujSl",
      "include_colab_link": true
    },
    "kernelspec": {
      "name": "python3",
      "display_name": "Python 3"
    },
    "language_info": {
      "name": "python"
    }
  },
  "cells": [
    {
      "cell_type": "markdown",
      "metadata": {
        "id": "view-in-github",
        "colab_type": "text"
      },
      "source": [
        "<a href=\"https://colab.research.google.com/github/kimheeseo/2022_AI_SW_Programmingstudy/blob/main/SVM_fullcode.ipynb\" target=\"_parent\"><img src=\"https://colab.research.google.com/assets/colab-badge.svg\" alt=\"Open In Colab\"/></a>"
      ]
    },
    {
      "cell_type": "code",
      "execution_count": 2,
      "metadata": {
        "colab": {
          "base_uri": "https://localhost:8080/",
          "height": 321
        },
        "id": "8kv3XxNyjirx",
        "outputId": "5eac4a1d-0204-4153-b11c-86dd81c257ae"
      },
      "outputs": [
        {
          "output_type": "execute_result",
          "data": {
            "text/plain": [
              "[<matplotlib.lines.Line2D at 0x7fb15defb5d0>,\n",
              " <matplotlib.lines.Line2D at 0x7fb148eb5ed0>,\n",
              " <matplotlib.lines.Line2D at 0x7fb148e423d0>]"
            ]
          },
          "metadata": {},
          "execution_count": 2
        },
        {
          "output_type": "display_data",
          "data": {
            "image/png": "[encoded data removed]",
            "text/plain": [
              "<Figure size 432x288 with 1 Axes>"
            ]
          },
          "metadata": {
            "needs_background": "light"
          }
        }
      ],
      "source": [
        "# libraries\n",
        "import numpy as np\n",
        "import scipy as sp\n",
        "import pandas as pd\n",
        "import matplotlib.pyplot as plt\n",
        "from sklearn.model_selection import train_test_split\n",
        "from sklearn.model_selection import cross_val_score\n",
        "%matplotlib inline\n",
        "\n",
        "\n",
        "###########################################################\n",
        "# Support Vector Machine\n",
        "###########################################################\n",
        "\n",
        "# read data\n",
        "df = pd.read_csv('data07_diabetes.csv')\n",
        "X = df.iloc[:,:-1]\n",
        "y = (df['Y']>140).factorize()[0]\n",
        "xtrain,xtest,ytrain,ytest = train_test_split(X,y,test_size=0.33,random_state=0)\n",
        "\n",
        "# svm\n",
        "from sklearn.svm import SVC\n",
        "f = SVC(C=5,kernel='poly',probability=True)\n",
        "f.fit(xtrain,ytrain)\n",
        "f.predict(xtest)\n",
        "f.predict_proba(xtest)\n",
        "f.score(xtrain,ytrain)\n",
        "f.score(xtest,ytest)\n",
        "\n",
        "# parameter tuning\n",
        "params = 10**np.linspace(2,10,num=50)\n",
        "s = np.zeros((len(params),3))\n",
        "for i in range(len(params)):\n",
        "    f = SVC(C=params[i],kernel='rbf',gamma=0.0001,random_state=0)\n",
        "    f.fit(xtrain,ytrain)\n",
        "    s[i,0] = f.score(xtrain,ytrain)\n",
        "    s[i,1] = cross_val_score(f,xtrain,ytrain,cv=5).mean()\n",
        "    s[i,2] = f.score(xtest,ytest)\n",
        "    \n",
        "plt.plot(np.log10(params),s)\n",
        "\n",
        "\n",
        "###########################################################\n",
        "# Support Vector Regression\n",
        "###########################################################\n",
        "\n",
        "# read data\n",
        "df = pd.read_csv('data07_diabetes.csv')\n",
        "X = df.iloc[:,:-1]\n",
        "y = df['Y']\n",
        "xtrain,xtest,ytrain,ytest = train_test_split(X,y,test_size=0.33,random_state=0)\n",
        "\n",
        "# svr\n",
        "from sklearn.svm import SVR\n",
        "f = SVR(C=5,kernel='rbf')\n",
        "f.fit(xtrain,ytrain)\n",
        "f.predict(xtest)\n",
        "f.score(xtrain,ytrain)\n",
        "f.score(xtest,ytest)\n",
        "\n",
        "# parameter tuning\n",
        "params = 10**np.linspace(2,7,num=50)\n",
        "s = np.zeros((len(params),3))\n",
        "for i in range(len(params)):\n",
        "    f = SVR(C=params[i],kernel='rbf')\n",
        "    f.fit(xtrain,ytrain)\n",
        "    s[i,0] = f.score(xtrain,ytrain)\n",
        "    s[i,1] = cross_val_score(f,xtrain,ytrain,cv=5).mean()\n",
        "    s[i,2] = f.score(xtest,ytest)\n",
        "    \n",
        "plt.plot(np.log10(params),s)"
      ]
    },
    {
      "cell_type": "code",
      "source": [
        "###########################################################\n",
        "# Practice\n",
        "###########################################################\n",
        "\n",
        "# read data\n",
        "df = pd.read_csv('data08_khan.csv',header=None)\n",
        "dfx = df.iloc[:,1:]\n",
        "dfy = df.iloc[:,0]\n",
        "xtrain, ytrain = dfx.iloc[:63,:], dfy[:63]\n",
        "xtest, ytest = dfx.iloc[63:,:], dfy[63:]\n",
        "\n",
        "# PLEASE DO NOT GO DOWN BEFORE YOU TRY BY YOURSELF\n",
        "\n",
        "###########################################################\n",
        "# Practice Reference Code\n",
        "###########################################################\n",
        "\n",
        "# read data\n",
        "df = pd.read_csv('data08_khan.csv',header=None)\n",
        "dfx = df.iloc[:,1:]\n",
        "dfy = df.iloc[:,0]\n",
        "xtrain, ytrain = dfx.iloc[:63,:], dfy[:63]\n",
        "xtest, ytest = dfx.iloc[63:,:], dfy[63:]\n",
        "\n",
        "# classification\n",
        "params = 10**np.linspace(-1,7,num=50)\n",
        "s = np.zeros((len(params),3))\n",
        "for i in range(len(params)):\n",
        "    f = SVC(C=params[i],kernel='rbf')\n",
        "    f.fit(xtrain,ytrain)\n",
        "    s[i,0] = f.score(xtrain,ytrain)\n",
        "    s[i,1] = cross_val_score(f,xtrain,ytrain,cv=5).mean()\n",
        "    s[i,2] = f.score(xtest,ytest)\n",
        "plt.plot(np.log10(params),s)\n",
        "\n",
        "# final predictor\n",
        "f = SVC(C=params[5],kernel='rbf')\n",
        "f.fit(xtrain,ytrain)\n",
        "yhat_test = f.predict(xtest)\n",
        "pd.crosstab(yhat_test,ytest)\n",
        "\n",
        "# regression\n",
        "params = 10**np.linspace(-3,3,num=10)\n",
        "s = np.zeros((len(params),3))\n",
        "for i in range(len(params)):\n",
        "    f = SVR(C=params[i],kernel='rbf')\n",
        "    f.fit(xtrain,ytrain)\n",
        "    s[i,0] = f.score(xtrain,ytrain)\n",
        "    s[i,1] = cross_val_score(f,xtrain,ytrain,cv=5).mean()\n",
        "    s[i,2] = f.score(xtest,ytest)\n",
        "plt.plot(np.log10(params),s)\n",
        "\n",
        "# final predictor\n",
        "f = SVR(C=params[6],kernel='rbf')\n",
        "f.fit(xtrain,ytrain)\n",
        "plt.plot(f.predict(xtest),ytest,'go')"
      ],
      "metadata": {
        "id": "91bDrJrpo50p"
      },
      "execution_count": null,
      "outputs": []
    }
  ]
}
