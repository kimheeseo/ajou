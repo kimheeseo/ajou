{
  "nbformat": 4,
  "nbformat_minor": 0,
  "metadata": {
    "colab": {
      "name": "ensemble_fullcode.ipynb",
      "provenance": [],
      "authorship_tag": "ABX9TyNWR0UdnYTzqyEOULC8lZDy",
      "include_colab_link": true
    },
    "kernelspec": {
      "name": "python3",
      "display_name": "Python 3"
    },
    "language_info": {
      "name": "python"
    }
  },
  "cells": [
    {
      "cell_type": "markdown",
      "metadata": {
        "id": "view-in-github",
        "colab_type": "text"
      },
      "source": [
        "<a href=\"https://colab.research.google.com/github/kimheeseo/2022_AI_SW_Programmingstudy/blob/main/ensemble_fullcode.ipynb\" target=\"_parent\"><img src=\"https://colab.research.google.com/assets/colab-badge.svg\" alt=\"Open In Colab\"/></a>"
      ]
    },
    {
      "cell_type": "code",
      "execution_count": 2,
      "metadata": {
        "colab": {
          "base_uri": "https://localhost:8080/",
          "height": 321
        },
        "id": "J7RtVJ_7ZK8Q",
        "outputId": "671d1fc4-d36c-4db9-dc64-08cd6463c060"
      },
      "outputs": [
        {
          "output_type": "execute_result",
          "data": {
            "text/plain": [
              "[<matplotlib.lines.Line2D at 0x7f9307d545d0>,\n",
              " <matplotlib.lines.Line2D at 0x7f9307f1edd0>,\n",
              " <matplotlib.lines.Line2D at 0x7f9307d54910>]"
            ]
          },
          "metadata": {},
          "execution_count": 2
        },
        {
          "output_type": "display_data",
          "data": {
            "image/png": "[encoded data removed]",
            "text/plain": [
              "<Figure size 432x288 with 1 Axes>"
            ]
          },
          "metadata": {
            "needs_background": "light"
          }
        }
      ],
      "source": [
        "# libraries\n",
        "import numpy as np\n",
        "import scipy as sp\n",
        "import pandas as pd\n",
        "import matplotlib.pyplot as plt\n",
        "from sklearn.model_selection import train_test_split\n",
        "from sklearn.model_selection import cross_val_score\n",
        "%matplotlib inline\n",
        "\n",
        "# read data\n",
        "df = pd.read_csv('data07_diabetes.csv')\n",
        "X = df.iloc[:,:-1]\n",
        "y = df['Y']\n",
        "xtrain,xtest,ytrain,ytest = train_test_split(X,y,test_size=0.5,random_state=1)\n",
        "\n",
        "###########################################################\n",
        "# Bagging Methods\n",
        "###########################################################\n",
        "\n",
        "from sklearn.ensemble import BaggingRegressor\n",
        "from sklearn.neighbors import KNeighborsRegressor\n",
        "knn = KNeighborsRegressor(n_neighbors=5)\n",
        "\n",
        "# usual knn\n",
        "knn.fit(xtrain,ytrain)\n",
        "knn.score(xtrain,ytrain)\n",
        "knn.score(xtest,ytest)\n",
        "\n",
        "# full bagging\n",
        "bf = BaggingRegressor(knn,n_estimators=100,max_samples=1.0,max_features=1.0,random_state=0)\n",
        "bf.fit(xtrain,ytrain)\n",
        "bf.score(xtrain,ytrain)\n",
        "bf.score(xtest,ytest)\n",
        "\n",
        "# bagging with subsampling and feature randomization\n",
        "bf = BaggingRegressor(knn,n_estimators=500,max_samples=0.5,max_features=0.5)\n",
        "bf.fit(xtrain,ytrain)\n",
        "bf.score(xtrain,ytrain)\n",
        "bf.score(xtest,ytest)\n",
        "\n",
        "# effect of estimators\n",
        "np.random.seed(0)\n",
        "n_list = [1,5,10,20,30,50,100,200,500,1000]\n",
        "s = np.zeros((len(n_list),2))\n",
        "for i in range(len(n_list)):\n",
        "    bf = BaggingRegressor(knn,n_estimators=n_list[i],max_samples=0.5,max_features=0.5)\n",
        "    bf.fit(xtrain,ytrain)\n",
        "    s[i,0] = bf.score(xtrain,ytrain)\n",
        "    s[i,1] = bf.score(xtest,ytest)\n",
        "plt.plot(np.log10(n_list),s,marker='o')\n",
        "\n",
        "# parameter tunning\n",
        "np.random.seed(1)\n",
        "params = np.arange(2,20,2)\n",
        "s = np.zeros((len(params),3))\n",
        "for i in range(len(params)):\n",
        "    f = BaggingRegressor(KNeighborsRegressor(params[i]),n_estimators=200,\n",
        "                          random_state=0,max_samples=0.5,max_features=0.5,oob_score=True)\n",
        "    f.fit(xtrain,ytrain)\n",
        "    s[i,0] = f.score(xtrain,ytrain)\n",
        "    s[i,1] = cross_val_score(f,xtrain,ytrain,cv=5).mean()\n",
        "#    s[i,1] = f.oob_score_\n",
        "    s[i,2] = f.score(xtest,ytest)\n",
        "plt.plot(s)\n",
        "\n",
        "\n",
        "###########################################################\n",
        "# Random Forest\n",
        "###########################################################\n",
        "\n",
        "# random forest\n",
        "from sklearn.ensemble import RandomForestRegressor\n",
        "rf = RandomForestRegressor(n_estimators=100,random_state=0)\n",
        "rf.fit(xtrain,ytrain)\n",
        "yhat_test = rf.predict(xtest)\n",
        "rf.score(xtrain,ytrain)\n",
        "rf.score(xtest,ytest)\n",
        "\n",
        "# number of features to be chosen\n",
        "rf = RandomForestRegressor(n_estimators=100,random_state=0,max_features='sqrt')\n",
        "rf.fit(xtrain,ytrain)\n",
        "rf.score(xtrain,ytrain)\n",
        "rf.score(xtest,ytest)\n",
        "\n",
        "# tree size\n",
        "rf = RandomForestRegressor(n_estimators=100,random_state=0,\n",
        "                           max_features='sqrt',max_leaf_nodes=100)\n",
        "rf.fit(xtrain,ytrain)\n",
        "rf.score(xtrain,ytrain)\n",
        "rf.score(xtest,ytest)\n",
        "\n",
        "# oob score\n",
        "rf = RandomForestRegressor(n_estimators=100,random_state=0,\n",
        "                           max_features='sqrt',max_leaf_nodes=100,\n",
        "                           oob_score=True)\n",
        "rf.fit(xtrain,ytrain)\n",
        "rf.score(xtrain,ytrain)\n",
        "rf.score(xtest,ytest)\n",
        "rf.oob_score_  # out-of-bag score\n",
        "\n",
        "# parameter tuning using oob scores\n",
        "tree_size = np.arange(2,50,2)\n",
        "s = np.zeros((len(tree_size),4))\n",
        "for i in range(len(tree_size)):\n",
        "    rf = RandomForestRegressor(n_estimators=100,random_state=0,\n",
        "                           max_features='sqrt',max_leaf_nodes=tree_size[i],\n",
        "                           oob_score=True)\n",
        "    rf.fit(xtrain,ytrain)\n",
        "    s[i,0] = rf.score(xtrain,ytrain)\n",
        "    s[i,1] = rf.oob_score_ \n",
        "    s[i,2] = cross_val_score(rf,xtrain,ytrain,cv=5).mean()\n",
        "    s[i,3] = rf.score(xtest,ytest)\n",
        "\n",
        "plt.plot(tree_size,s)\n",
        "\n",
        "\n",
        "###########################################################\n",
        "# Gradient Boosted Tree\n",
        "###########################################################\n",
        "\n",
        "# gradient boosting regressor\n",
        "from sklearn.ensemble import GradientBoostingRegressor\n",
        "gb = GradientBoostingRegressor(learning_rate=0.1,n_estimators=100,max_depth=3)\n",
        "gb.fit(xtrain,ytrain)\n",
        "yhat_test = gb.predict(xtest)\n",
        "gb.score(xtrain,ytrain)\n",
        "gb.score(xtest,ytest)\n",
        "\n",
        "# number of estimators\n",
        "n_list = np.arange(2,200,2)\n",
        "s = np.zeros((len(n_list),3))\n",
        "for i in range(len(n_list)):\n",
        "    gb = GradientBoostingRegressor(learning_rate=0.1,\n",
        "                                   n_estimators=n_list[i],max_depth=3)\n",
        "    gb.fit(xtrain,ytrain)\n",
        "    s[i,0] = gb.score(xtrain,ytrain)\n",
        "    s[i,1] = cross_val_score(gb,xtrain,ytrain,cv=5).mean() \n",
        "    s[i,2] = gb.score(xtest,ytest)\n",
        "\n",
        "plt.plot(n_list,s)\n",
        "\n"
      ]
    }
  ]
}
