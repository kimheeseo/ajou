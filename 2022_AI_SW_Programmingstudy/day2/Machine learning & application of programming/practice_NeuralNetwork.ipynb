{
  "nbformat": 4,
  "nbformat_minor": 0,
  "metadata": {
    "colab": {
      "name": "practice_NeuralNetwork.ipynb",
      "provenance": [],
      "authorship_tag": "ABX9TyM4iva7kOnLsHO6l5mNo42t",
      "include_colab_link": true
    },
    "kernelspec": {
      "name": "python3",
      "display_name": "Python 3"
    },
    "language_info": {
      "name": "python"
    }
  },
  "cells": [
    {
      "cell_type": "markdown",
      "metadata": {
        "id": "view-in-github",
        "colab_type": "text"
      },
      "source": [
        "<a href=\"https://colab.research.google.com/github/kimheeseo/2022_AI_SW_Programmingstudy/blob/main/practice_NeuralNetwork.ipynb\" target=\"_parent\"><img src=\"https://colab.research.google.com/assets/colab-badge.svg\" alt=\"Open In Colab\"/></a>"
      ]
    },
    {
      "cell_type": "code",
      "source": [
        "# libraries\n",
        "import numpy as np\n",
        "import scipy as sp\n",
        "import pandas as pd\n",
        "import matplotlib.pyplot as plt\n",
        "from sklearn.model_selection import train_test_split\n",
        "from sklearn.model_selection import cross_val_score\n",
        "%matplotlib inline"
      ],
      "metadata": {
        "id": "d9Y5Ew7nmHgX"
      },
      "execution_count": null,
      "outputs": []
    },
    {
      "cell_type": "markdown",
      "source": [
        "# **Neural Network for Classification**"
      ],
      "metadata": {
        "id": "d0ZmYISFmKZI"
      }
    },
    {
      "cell_type": "code",
      "source": [
        "# read data from file\n",
        "df = pd.read_csv('data06_iris2.csv')\n",
        "X = df.iloc[:,:-1]\n",
        "Y = df['Species']\n",
        "xtrain, xtest, ytrain, ytest = train_test_split(X,Y,test_size=0.4,random_state=1) "
      ],
      "metadata": {
        "id": "wdbKOqk2mJPh"
      },
      "execution_count": null,
      "outputs": []
    },
    {
      "cell_type": "markdown",
      "source": [
        "# **neural network**"
      ],
      "metadata": {
        "id": "6CMpNZUomNk_"
      }
    },
    {
      "cell_type": "code",
      "execution_count": null,
      "metadata": {
        "id": "P9INKRw4l8z8"
      },
      "outputs": [],
      "source": [
        "from sklearn.neural_network import MLPClassifier\n",
        "nn = MLPClassifier(\n",
        "        hidden_layer_sizes = (5,5),#중간에 hidden layer가 2개가 있다.\n",
        "        activation = 'logistic',#activation function : logistic function\n",
        "        solver = 'lbfgs', # for small data set, sgd/adam for large data set\n",
        "        alpha = 0.0001, # L2 regularization\n",
        "        batch_size = 'auto',\n",
        "        learning_rate = 'constant',\n",
        "        learning_rate_init = 0.001,\n",
        "        random_state = 0,\n",
        "        max_iter = 1000)"
      ]
    },
    {
      "cell_type": "code",
      "source": [
        "nn.fit(xtrain,ytrain)\n",
        "yhat_test = nn.predict(xtest)\n",
        "yhat_test_prob = nn.predict_proba(xtest)\n",
        "print(yhat_test)\n",
        "nn.score(xtrain,ytrain)\n",
        "nn.score(xtest,ytest)\n",
        "\n",
        "nn.coefs_\n",
        "nn.intercepts_"
      ],
      "metadata": {
        "colab": {
          "base_uri": "https://localhost:8080/"
        },
        "id": "I7M9bxRJmkk_",
        "outputId": "c997021e-82f8-49dc-c5ac-a532850bacaf"
      },
      "execution_count": null,
      "outputs": [
        {
          "output_type": "stream",
          "name": "stdout",
          "text": [
            "[1 0 0 1 1 0 1 1 0 1 1 0 0 1 0 0 0 0 0 0 1 0 0 1 0 0 0 1 0 0 1 0 1 1 0 1 0\n",
            " 1 1 0]\n"
          ]
        },
        {
          "output_type": "stream",
          "name": "stderr",
          "text": [
            "/usr/local/lib/python3.7/dist-packages/sklearn/neural_network/_multilayer_perceptron.py:549: ConvergenceWarning: lbfgs failed to converge (status=1):\n",
            "STOP: TOTAL NO. of ITERATIONS REACHED LIMIT.\n",
            "\n",
            "Increase the number of iterations (max_iter) or scale the data as shown in:\n",
            "    https://scikit-learn.org/stable/modules/preprocessing.html\n",
            "  self.n_iter_ = _check_optimize_result(\"lbfgs\", opt_res, self.max_iter)\n"
          ]
        },
        {
          "output_type": "execute_result",
          "data": {
            "text/plain": [
              "[array([ 19.79733681,   0.55416192, -59.04480558,   1.19099383,\n",
              "        -36.16584889]),\n",
              " array([ 0.07051265, -2.83483059,  0.61990553, -1.774174  ,  1.0924041 ]),\n",
              " array([-7.15575764])]"
            ]
          },
          "metadata": {},
          "execution_count": 8
        }
      ]
    },
    {
      "cell_type": "code",
      "source": [
        "print(nn.score(xtrain,ytrain), nn.score(xtest,ytest)) #0.9, 0.625 : hidden_layer_sizes = (2,2)"
      ],
      "metadata": {
        "colab": {
          "base_uri": "https://localhost:8080/"
        },
        "id": "qaWwQm85mojJ",
        "outputId": "47b65dcd-8ba4-49db-bd34-1613e6795984"
      },
      "execution_count": null,
      "outputs": [
        {
          "output_type": "stream",
          "name": "stdout",
          "text": [
            "1.0 0.625\n"
          ]
        }
      ]
    },
    {
      "cell_type": "markdown",
      "source": [
        "# **Nueral Network for Regression**"
      ],
      "metadata": {
        "id": "az3MPTf8m4zV"
      }
    },
    {
      "cell_type": "code",
      "source": [
        "# read data\n",
        "df = pd.read_csv('data07_diabetes.csv')\n",
        "X = df.iloc[:,:-1]\n",
        "y = df['Y']\n",
        "xtrain,xtest,ytrain,ytest = train_test_split(X,y,test_size=0.33,random_state=1)\n",
        "\n",
        "# neural network\n",
        "from sklearn.neural_network import MLPRegressor\n",
        "nn = MLPRegressor(\n",
        "        hidden_layer_sizes = (2,2),\n",
        "        activation = 'relu',\n",
        "        solver = 'lbfgs', \n",
        "        alpha = 0.0001,\n",
        "        batch_size = 'auto',\n",
        "        learning_rate = 'constant',\n",
        "        learning_rate_init = 0.001,\n",
        "        random_state = 0,\n",
        "        max_iter = 10000)\n",
        "nn.fit(xtrain,ytrain)\n",
        "yhat_test = nn.predict(xtest)\n",
        "nn.score(xtrain,ytrain)\n",
        "nn.score(xtest,ytest)"
      ],
      "metadata": {
        "colab": {
          "base_uri": "https://localhost:8080/"
        },
        "id": "uatOA9yimSwI",
        "outputId": "6b69bd1c-dca5-4ab8-ce64-53a7ad3dcf78"
      },
      "execution_count": null,
      "outputs": [
        {
          "output_type": "execute_result",
          "data": {
            "text/plain": [
              "0.4290327348217634"
            ]
          },
          "metadata": {},
          "execution_count": 10
        }
      ]
    }
  ]
}
