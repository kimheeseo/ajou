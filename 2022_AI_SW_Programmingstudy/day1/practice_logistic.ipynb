{
  "nbformat": 4,
  "nbformat_minor": 0,
  "metadata": {
    "colab": {
      "name": "practice_logistic.ipynb",
      "provenance": [],
      "authorship_tag": "ABX9TyO+trRyxU+F63JyMrT1qKdh",
      "include_colab_link": true
    },
    "kernelspec": {
      "name": "python3",
      "display_name": "Python 3"
    },
    "language_info": {
      "name": "python"
    }
  },
  "cells": [
    {
      "cell_type": "markdown",
      "metadata": {
        "id": "view-in-github",
        "colab_type": "text"
      },
      "source": [
        "<a href=\"https://colab.research.google.com/github/kimheeseo/2022_AI_SW_Programmingstudy/blob/main/practice_logistic.ipynb\" target=\"_parent\"><img src=\"https://colab.research.google.com/assets/colab-badge.svg\" alt=\"Open In Colab\"/></a>"
      ]
    },
    {
      "cell_type": "code",
      "execution_count": 1,
      "metadata": {
        "id": "0ZXGcSNpJ94X"
      },
      "outputs": [],
      "source": [
        "# libraries\n",
        "import numpy as np\n",
        "import scipy as sp\n",
        "import pandas as pd\n",
        "import matplotlib.pyplot as plt"
      ]
    },
    {
      "cell_type": "code",
      "source": [
        "# read data from file\n",
        "df = pd.read_csv('data06_iris2.csv')"
      ],
      "metadata": {
        "id": "8xfXaXssJ_O2"
      },
      "execution_count": 2,
      "outputs": []
    },
    {
      "cell_type": "code",
      "source": [
        "X = df.iloc[:,:-1]\n",
        "Y = df['Species']"
      ],
      "metadata": {
        "id": "1KVmUlglKGNT"
      },
      "execution_count": 3,
      "outputs": []
    },
    {
      "cell_type": "markdown",
      "source": [
        "# **train & test data**"
      ],
      "metadata": {
        "id": "zAdfqleOKa74"
      }
    },
    {
      "cell_type": "code",
      "source": [
        "from sklearn.model_selection import train_test_split\n",
        "xtrain, xtest, ytrain, ytest = train_test_split(X,Y,test_size=0.4,random_state=1) "
      ],
      "metadata": {
        "id": "ZfYBFJKPKeag"
      },
      "execution_count": 4,
      "outputs": []
    },
    {
      "cell_type": "code",
      "source": [
        "xtrain.shape"
      ],
      "metadata": {
        "colab": {
          "base_uri": "https://localhost:8080/"
        },
        "id": "cAv7cT0fKgoP",
        "outputId": "384c78b8-79e9-4230-f1bb-57f3bd30609d"
      },
      "execution_count": 5,
      "outputs": [
        {
          "output_type": "execute_result",
          "data": {
            "text/plain": [
              "(60, 4)"
            ]
          },
          "metadata": {},
          "execution_count": 5
        }
      ]
    },
    {
      "cell_type": "markdown",
      "source": [
        "# **logistic regression**"
      ],
      "metadata": {
        "id": "JAUX8QI3KlWP"
      }
    },
    {
      "cell_type": "code",
      "source": [
        "from sklearn.linear_model import LogisticRegression\n",
        "# multiple logistic regression\n",
        "f = LogisticRegression()\n",
        "f.fit(xtrain,ytrain)"
      ],
      "metadata": {
        "colab": {
          "base_uri": "https://localhost:8080/"
        },
        "id": "3vaP8DwbKxm_",
        "outputId": "c2afe967-a6db-46b7-d267-da45f1716153"
      },
      "execution_count": 6,
      "outputs": [
        {
          "output_type": "execute_result",
          "data": {
            "text/plain": [
              "LogisticRegression()"
            ]
          },
          "metadata": {},
          "execution_count": 6
        }
      ]
    },
    {
      "cell_type": "code",
      "source": [
        "yhat_train = f.predict(xtrain)"
      ],
      "metadata": {
        "id": "HS6jnUpqK8W7"
      },
      "execution_count": 7,
      "outputs": []
    },
    {
      "cell_type": "code",
      "source": [
        "yhat_train"
      ],
      "metadata": {
        "colab": {
          "base_uri": "https://localhost:8080/"
        },
        "id": "uPqWa50HK9RT",
        "outputId": "445fcb63-b0f0-4983-faf3-3c9648ddd045"
      },
      "execution_count": 8,
      "outputs": [
        {
          "output_type": "execute_result",
          "data": {
            "text/plain": [
              "array([1, 1, 0, 0, 1, 0, 0, 0, 0, 1, 0, 1, 0, 0, 1, 0, 0, 1, 0, 1, 0, 1,\n",
              "       1, 0, 0, 1, 0, 1, 0, 1, 1, 1, 1, 1, 0, 1, 0, 1, 1, 0, 0, 0, 0, 1,\n",
              "       1, 1, 0, 0, 1, 0, 0, 0, 1, 1, 0, 1, 0, 1, 0, 0])"
            ]
          },
          "metadata": {},
          "execution_count": 8
        }
      ]
    },
    {
      "cell_type": "code",
      "source": [
        "ytrain #label자체를 예측하는 것."
      ],
      "metadata": {
        "colab": {
          "base_uri": "https://localhost:8080/"
        },
        "id": "VUpBz6tTLAi2",
        "outputId": "294d5725-8c39-4311-9076-12df11ac80f8"
      },
      "execution_count": 9,
      "outputs": [
        {
          "output_type": "execute_result",
          "data": {
            "text/plain": [
              "86    1\n",
              "53    1\n",
              "77    1\n",
              "15    0\n",
              "83    1\n",
              "41    0\n",
              "45    0\n",
              "91    1\n",
              "26    0\n",
              "98    1\n",
              "43    0\n",
              "55    1\n",
              "24    0\n",
              "4     0\n",
              "58    1\n",
              "49    0\n",
              "21    0\n",
              "87    1\n",
              "3     0\n",
              "74    1\n",
              "30    0\n",
              "66    1\n",
              "70    1\n",
              "42    0\n",
              "47    0\n",
              "89    1\n",
              "8     0\n",
              "60    1\n",
              "0     0\n",
              "90    1\n",
              "57    1\n",
              "22    0\n",
              "61    1\n",
              "63    1\n",
              "7     0\n",
              "96    1\n",
              "13    0\n",
              "68    1\n",
              "85    1\n",
              "14    0\n",
              "29    0\n",
              "28    0\n",
              "11    0\n",
              "18    0\n",
              "20    0\n",
              "50    1\n",
              "25    0\n",
              "6     0\n",
              "71    1\n",
              "76    1\n",
              "1     0\n",
              "16    0\n",
              "64    1\n",
              "79    1\n",
              "5     0\n",
              "75    1\n",
              "9     0\n",
              "72    1\n",
              "12    0\n",
              "37    0\n",
              "Name: Species, dtype: int64"
            ]
          },
          "metadata": {},
          "execution_count": 9
        }
      ]
    },
    {
      "cell_type": "code",
      "source": [
        "yhat_train_prob = f.predict_proba(xtrain) #확률값 예측"
      ],
      "metadata": {
        "id": "k2aBE2w3LLpH"
      },
      "execution_count": 10,
      "outputs": []
    },
    {
      "cell_type": "code",
      "source": [
        "yhat_train_prob #각각의 값은 확률값을 나타내기에 0~1의 값을 가진다."
      ],
      "metadata": {
        "colab": {
          "base_uri": "https://localhost:8080/"
        },
        "id": "cVcffKZ0LOcO",
        "outputId": "3d9f9c50-0f2f-4689-d8ce-631c73600652"
      },
      "execution_count": 11,
      "outputs": [
        {
          "output_type": "execute_result",
          "data": {
            "text/plain": [
              "array([[0.13829219, 0.86170781],\n",
              "       [0.30135055, 0.69864945],\n",
              "       [0.51581254, 0.48418746],\n",
              "       [0.57350307, 0.42649693],\n",
              "       [0.33849752, 0.66150248],\n",
              "       [0.74800742, 0.25199258],\n",
              "       [0.89217947, 0.10782053],\n",
              "       [0.50839028, 0.49160972],\n",
              "       [0.78208815, 0.21791185],\n",
              "       [0.16746581, 0.83253419],\n",
              "       [0.99811241, 0.00188759],\n",
              "       [0.00134489, 0.99865511],\n",
              "       [0.94974903, 0.05025097],\n",
              "       [0.93130103, 0.06869897],\n",
              "       [0.04842379, 0.95157621],\n",
              "       [0.92793932, 0.07206068],\n",
              "       [0.89578915, 0.10421085],\n",
              "       [0.47813053, 0.52186947],\n",
              "       [0.98095754, 0.01904246],\n",
              "       [0.09482357, 0.90517643],\n",
              "       [0.96452204, 0.03547796],\n",
              "       [0.27092297, 0.72907703],\n",
              "       [0.09234407, 0.90765593],\n",
              "       [0.97335195, 0.02664805],\n",
              "       [0.96062896, 0.03937104],\n",
              "       [0.20567729, 0.79432271],\n",
              "       [0.60539894, 0.39460106],\n",
              "       [0.27329882, 0.72670118],\n",
              "       [0.55547786, 0.44452214],\n",
              "       [0.08598616, 0.91401384],\n",
              "       [0.04919524, 0.95080476],\n",
              "       [0.47459824, 0.52540176],\n",
              "       [0.20665752, 0.79334248],\n",
              "       [0.16839945, 0.83160055],\n",
              "       [0.92926648, 0.07073352],\n",
              "       [0.37961597, 0.62038403],\n",
              "       [0.67898178, 0.32101822],\n",
              "       [0.00147385, 0.99852615],\n",
              "       [0.18617562, 0.81382438],\n",
              "       [0.99303072, 0.00696928],\n",
              "       [0.95556938, 0.04443062],\n",
              "       [0.87901594, 0.12098406],\n",
              "       [0.70519591, 0.29480409],\n",
              "       [0.4457452 , 0.5542548 ],\n",
              "       [0.11156284, 0.88843716],\n",
              "       [0.00869962, 0.99130038],\n",
              "       [0.94716113, 0.05283887],\n",
              "       [0.85491221, 0.14508779],\n",
              "       [0.28692946, 0.71307054],\n",
              "       [0.70162326, 0.29837674],\n",
              "       [0.91126382, 0.08873618],\n",
              "       [0.92591504, 0.07408496],\n",
              "       [0.21127636, 0.78872364],\n",
              "       [0.34748757, 0.65251243],\n",
              "       [0.96230143, 0.03769857],\n",
              "       [0.04933001, 0.95066999],\n",
              "       [0.90354294, 0.09645706],\n",
              "       [0.03718518, 0.96281482],\n",
              "       [0.82469058, 0.17530942],\n",
              "       [0.60344849, 0.39655151]])"
            ]
          },
          "metadata": {},
          "execution_count": 11
        }
      ]
    },
    {
      "cell_type": "code",
      "source": [
        "yhat_test = f.predict(xtest)\n",
        "yhat_test_prob = f.predict_proba(xtest)"
      ],
      "metadata": {
        "id": "PFCtSLWVLSPx"
      },
      "execution_count": 12,
      "outputs": []
    },
    {
      "cell_type": "code",
      "source": [
        "yhat_test_prob"
      ],
      "metadata": {
        "colab": {
          "base_uri": "https://localhost:8080/"
        },
        "id": "Ye0y7gRpLU-f",
        "outputId": "a8e28d0e-46a4-4c43-a5a4-3512e156f4e8"
      },
      "execution_count": 13,
      "outputs": [
        {
          "output_type": "execute_result",
          "data": {
            "text/plain": [
              "array([[3.15424553e-02, 9.68457545e-01],\n",
              "       [7.47939083e-01, 2.52060917e-01],\n",
              "       [7.12079712e-01, 2.87920288e-01],\n",
              "       [2.52163121e-01, 7.47836879e-01],\n",
              "       [1.22833532e-01, 8.77166468e-01],\n",
              "       [9.54261018e-01, 4.57389821e-02],\n",
              "       [2.04675587e-01, 7.95324413e-01],\n",
              "       [1.65844766e-01, 8.34155234e-01],\n",
              "       [8.62347750e-01, 1.37652250e-01],\n",
              "       [1.68712746e-01, 8.31287254e-01],\n",
              "       [9.89421150e-02, 9.01057885e-01],\n",
              "       [9.00629069e-01, 9.93709314e-02],\n",
              "       [8.85665260e-01, 1.14334740e-01],\n",
              "       [1.10466987e-02, 9.88953301e-01],\n",
              "       [1.42453724e-01, 8.57546276e-01],\n",
              "       [8.37133123e-01, 1.62866877e-01],\n",
              "       [9.87035182e-01, 1.29648179e-02],\n",
              "       [8.31428546e-01, 1.68571454e-01],\n",
              "       [4.26552728e-01, 5.73447272e-01],\n",
              "       [9.76206928e-01, 2.37930719e-02],\n",
              "       [5.01086274e-02, 9.49891373e-01],\n",
              "       [8.29138047e-01, 1.70861953e-01],\n",
              "       [5.06385447e-01, 4.93614553e-01],\n",
              "       [1.66687116e-01, 8.33312884e-01],\n",
              "       [9.15160321e-01, 8.48396786e-02],\n",
              "       [9.00131925e-01, 9.98680749e-02],\n",
              "       [5.47114870e-02, 9.45288513e-01],\n",
              "       [5.45432167e-01, 4.54567833e-01],\n",
              "       [8.43226097e-01, 1.56773903e-01],\n",
              "       [6.88120580e-01, 3.11879420e-01],\n",
              "       [4.95722937e-03, 9.95042771e-01],\n",
              "       [7.99747952e-01, 2.00252048e-01],\n",
              "       [1.33481425e-01, 8.66518575e-01],\n",
              "       [1.11141455e-01, 8.88858545e-01],\n",
              "       [7.59276746e-01, 2.40723254e-01],\n",
              "       [7.80657549e-01, 2.19342451e-01],\n",
              "       [9.99720591e-01, 2.79409124e-04],\n",
              "       [1.23640867e-02, 9.87635913e-01],\n",
              "       [4.90295305e-01, 5.09704695e-01],\n",
              "       [8.96898839e-01, 1.03101161e-01]])"
            ]
          },
          "metadata": {},
          "execution_count": 13
        }
      ]
    },
    {
      "cell_type": "code",
      "source": [
        "pd.crosstab(yhat_train,ytrain)"
      ],
      "metadata": {
        "colab": {
          "base_uri": "https://localhost:8080/",
          "height": 143
        },
        "id": "Lh9KL2ojLc0I",
        "outputId": "03251540-fdf4-497d-ff76-d9b80620085c"
      },
      "execution_count": 15,
      "outputs": [
        {
          "output_type": "execute_result",
          "data": {
            "text/html": [
              "\n",
              "  <div id=\"df-10f88460-579e-4559-b7b0-b42ff55d422a\">\n",
              "    <div class=\"colab-df-container\">\n",
              "      <div>\n",
              "<style scoped>\n",
              "    .dataframe tbody tr th:only-of-type {\n",
              "        vertical-align: middle;\n",
              "    }\n",
              "\n",
              "    .dataframe tbody tr th {\n",
              "        vertical-align: top;\n",
              "    }\n",
              "\n",
              "    .dataframe thead th {\n",
              "        text-align: right;\n",
              "    }\n",
              "</style>\n",
              "<table border=\"1\" class=\"dataframe\">\n",
              "  <thead>\n",
              "    <tr style=\"text-align: right;\">\n",
              "      <th>Species</th>\n",
              "      <th>0</th>\n",
              "      <th>1</th>\n",
              "    </tr>\n",
              "    <tr>\n",
              "      <th>row_0</th>\n",
              "      <th></th>\n",
              "      <th></th>\n",
              "    </tr>\n",
              "  </thead>\n",
              "  <tbody>\n",
              "    <tr>\n",
              "      <th>0</th>\n",
              "      <td>29</td>\n",
              "      <td>3</td>\n",
              "    </tr>\n",
              "    <tr>\n",
              "      <th>1</th>\n",
              "      <td>3</td>\n",
              "      <td>25</td>\n",
              "    </tr>\n",
              "  </tbody>\n",
              "</table>\n",
              "</div>\n",
              "      <button class=\"colab-df-convert\" onclick=\"convertToInteractive('df-10f88460-579e-4559-b7b0-b42ff55d422a')\"\n",
              "              title=\"Convert this dataframe to an interactive table.\"\n",
              "              style=\"display:none;\">\n",
              "        \n",
              "  <svg xmlns=\"http://www.w3.org/2000/svg\" height=\"24px\"viewBox=\"0 0 24 24\"\n",
              "       width=\"24px\">\n",
              "    <path d=\"M0 0h24v24H0V0z\" fill=\"none\"/>\n",
              "    <path d=\"M18.56 5.44l.94 2.06.94-2.06 2.06-.94-2.06-.94-.94-2.06-.94 2.06-2.06.94zm-11 1L8.5 8.5l.94-2.06 2.06-.94-2.06-.94L8.5 2.5l-.94 2.06-2.06.94zm10 10l.94 2.06.94-2.06 2.06-.94-2.06-.94-.94-2.06-.94 2.06-2.06.94z\"/><path d=\"M17.41 7.96l-1.37-1.37c-.4-.4-.92-.59-1.43-.59-.52 0-1.04.2-1.43.59L10.3 9.45l-7.72 7.72c-.78.78-.78 2.05 0 2.83L4 21.41c.39.39.9.59 1.41.59.51 0 1.02-.2 1.41-.59l7.78-7.78 2.81-2.81c.8-.78.8-2.07 0-2.86zM5.41 20L4 18.59l7.72-7.72 1.47 1.35L5.41 20z\"/>\n",
              "  </svg>\n",
              "      </button>\n",
              "      \n",
              "  <style>\n",
              "    .colab-df-container {\n",
              "      display:flex;\n",
              "      flex-wrap:wrap;\n",
              "      gap: 12px;\n",
              "    }\n",
              "\n",
              "    .colab-df-convert {\n",
              "      background-color: #E8F0FE;\n",
              "      border: none;\n",
              "      border-radius: 50%;\n",
              "      cursor: pointer;\n",
              "      display: none;\n",
              "      fill: #1967D2;\n",
              "      height: 32px;\n",
              "      padding: 0 0 0 0;\n",
              "      width: 32px;\n",
              "    }\n",
              "\n",
              "    .colab-df-convert:hover {\n",
              "      background-color: #E2EBFA;\n",
              "      box-shadow: 0px 1px 2px rgba(60, 64, 67, 0.3), 0px 1px 3px 1px rgba(60, 64, 67, 0.15);\n",
              "      fill: #174EA6;\n",
              "    }\n",
              "\n",
              "    [theme=dark] .colab-df-convert {\n",
              "      background-color: #3B4455;\n",
              "      fill: #D2E3FC;\n",
              "    }\n",
              "\n",
              "    [theme=dark] .colab-df-convert:hover {\n",
              "      background-color: #434B5C;\n",
              "      box-shadow: 0px 1px 3px 1px rgba(0, 0, 0, 0.15);\n",
              "      filter: drop-shadow(0px 1px 2px rgba(0, 0, 0, 0.3));\n",
              "      fill: #FFFFFF;\n",
              "    }\n",
              "  </style>\n",
              "\n",
              "      <script>\n",
              "        const buttonEl =\n",
              "          document.querySelector('#df-10f88460-579e-4559-b7b0-b42ff55d422a button.colab-df-convert');\n",
              "        buttonEl.style.display =\n",
              "          google.colab.kernel.accessAllowed ? 'block' : 'none';\n",
              "\n",
              "        async function convertToInteractive(key) {\n",
              "          const element = document.querySelector('#df-10f88460-579e-4559-b7b0-b42ff55d422a');\n",
              "          const dataTable =\n",
              "            await google.colab.kernel.invokeFunction('convertToInteractive',\n",
              "                                                     [key], {});\n",
              "          if (!dataTable) return;\n",
              "\n",
              "          const docLinkHtml = 'Like what you see? Visit the ' +\n",
              "            '<a target=\"_blank\" href=https://colab.research.google.com/notebooks/data_table.ipynb>data table notebook</a>'\n",
              "            + ' to learn more about interactive tables.';\n",
              "          element.innerHTML = '';\n",
              "          dataTable['output_type'] = 'display_data';\n",
              "          await google.colab.output.renderOutput(dataTable, element);\n",
              "          const docLink = document.createElement('div');\n",
              "          docLink.innerHTML = docLinkHtml;\n",
              "          element.appendChild(docLink);\n",
              "        }\n",
              "      </script>\n",
              "    </div>\n",
              "  </div>\n",
              "  "
            ],
            "text/plain": [
              "Species   0   1\n",
              "row_0          \n",
              "0        29   3\n",
              "1         3  25"
            ]
          },
          "metadata": {},
          "execution_count": 15
        }
      ]
    },
    {
      "cell_type": "code",
      "source": [
        "pd.crosstab(yhat_test,ytest) #test 총 40개중 30개는 잘 맞춤 (15+15), row값과 column값이 다르면, 잘 못맞춘다는 것을 의미 (7,3)처럼"
      ],
      "metadata": {
        "colab": {
          "base_uri": "https://localhost:8080/",
          "height": 143
        },
        "id": "RF-4TWH4LjzK",
        "outputId": "3e6d8b65-3ca4-46ba-8e4d-577efb24d39e"
      },
      "execution_count": 16,
      "outputs": [
        {
          "output_type": "execute_result",
          "data": {
            "text/html": [
              "\n",
              "  <div id=\"df-a678d13d-c5ab-4973-9ec7-969aa90c9014\">\n",
              "    <div class=\"colab-df-container\">\n",
              "      <div>\n",
              "<style scoped>\n",
              "    .dataframe tbody tr th:only-of-type {\n",
              "        vertical-align: middle;\n",
              "    }\n",
              "\n",
              "    .dataframe tbody tr th {\n",
              "        vertical-align: top;\n",
              "    }\n",
              "\n",
              "    .dataframe thead th {\n",
              "        text-align: right;\n",
              "    }\n",
              "</style>\n",
              "<table border=\"1\" class=\"dataframe\">\n",
              "  <thead>\n",
              "    <tr style=\"text-align: right;\">\n",
              "      <th>Species</th>\n",
              "      <th>0</th>\n",
              "      <th>1</th>\n",
              "    </tr>\n",
              "    <tr>\n",
              "      <th>row_0</th>\n",
              "      <th></th>\n",
              "      <th></th>\n",
              "    </tr>\n",
              "  </thead>\n",
              "  <tbody>\n",
              "    <tr>\n",
              "      <th>0</th>\n",
              "      <td>15</td>\n",
              "      <td>7</td>\n",
              "    </tr>\n",
              "    <tr>\n",
              "      <th>1</th>\n",
              "      <td>3</td>\n",
              "      <td>15</td>\n",
              "    </tr>\n",
              "  </tbody>\n",
              "</table>\n",
              "</div>\n",
              "      <button class=\"colab-df-convert\" onclick=\"convertToInteractive('df-a678d13d-c5ab-4973-9ec7-969aa90c9014')\"\n",
              "              title=\"Convert this dataframe to an interactive table.\"\n",
              "              style=\"display:none;\">\n",
              "        \n",
              "  <svg xmlns=\"http://www.w3.org/2000/svg\" height=\"24px\"viewBox=\"0 0 24 24\"\n",
              "       width=\"24px\">\n",
              "    <path d=\"M0 0h24v24H0V0z\" fill=\"none\"/>\n",
              "    <path d=\"M18.56 5.44l.94 2.06.94-2.06 2.06-.94-2.06-.94-.94-2.06-.94 2.06-2.06.94zm-11 1L8.5 8.5l.94-2.06 2.06-.94-2.06-.94L8.5 2.5l-.94 2.06-2.06.94zm10 10l.94 2.06.94-2.06 2.06-.94-2.06-.94-.94-2.06-.94 2.06-2.06.94z\"/><path d=\"M17.41 7.96l-1.37-1.37c-.4-.4-.92-.59-1.43-.59-.52 0-1.04.2-1.43.59L10.3 9.45l-7.72 7.72c-.78.78-.78 2.05 0 2.83L4 21.41c.39.39.9.59 1.41.59.51 0 1.02-.2 1.41-.59l7.78-7.78 2.81-2.81c.8-.78.8-2.07 0-2.86zM5.41 20L4 18.59l7.72-7.72 1.47 1.35L5.41 20z\"/>\n",
              "  </svg>\n",
              "      </button>\n",
              "      \n",
              "  <style>\n",
              "    .colab-df-container {\n",
              "      display:flex;\n",
              "      flex-wrap:wrap;\n",
              "      gap: 12px;\n",
              "    }\n",
              "\n",
              "    .colab-df-convert {\n",
              "      background-color: #E8F0FE;\n",
              "      border: none;\n",
              "      border-radius: 50%;\n",
              "      cursor: pointer;\n",
              "      display: none;\n",
              "      fill: #1967D2;\n",
              "      height: 32px;\n",
              "      padding: 0 0 0 0;\n",
              "      width: 32px;\n",
              "    }\n",
              "\n",
              "    .colab-df-convert:hover {\n",
              "      background-color: #E2EBFA;\n",
              "      box-shadow: 0px 1px 2px rgba(60, 64, 67, 0.3), 0px 1px 3px 1px rgba(60, 64, 67, 0.15);\n",
              "      fill: #174EA6;\n",
              "    }\n",
              "\n",
              "    [theme=dark] .colab-df-convert {\n",
              "      background-color: #3B4455;\n",
              "      fill: #D2E3FC;\n",
              "    }\n",
              "\n",
              "    [theme=dark] .colab-df-convert:hover {\n",
              "      background-color: #434B5C;\n",
              "      box-shadow: 0px 1px 3px 1px rgba(0, 0, 0, 0.15);\n",
              "      filter: drop-shadow(0px 1px 2px rgba(0, 0, 0, 0.3));\n",
              "      fill: #FFFFFF;\n",
              "    }\n",
              "  </style>\n",
              "\n",
              "      <script>\n",
              "        const buttonEl =\n",
              "          document.querySelector('#df-a678d13d-c5ab-4973-9ec7-969aa90c9014 button.colab-df-convert');\n",
              "        buttonEl.style.display =\n",
              "          google.colab.kernel.accessAllowed ? 'block' : 'none';\n",
              "\n",
              "        async function convertToInteractive(key) {\n",
              "          const element = document.querySelector('#df-a678d13d-c5ab-4973-9ec7-969aa90c9014');\n",
              "          const dataTable =\n",
              "            await google.colab.kernel.invokeFunction('convertToInteractive',\n",
              "                                                     [key], {});\n",
              "          if (!dataTable) return;\n",
              "\n",
              "          const docLinkHtml = 'Like what you see? Visit the ' +\n",
              "            '<a target=\"_blank\" href=https://colab.research.google.com/notebooks/data_table.ipynb>data table notebook</a>'\n",
              "            + ' to learn more about interactive tables.';\n",
              "          element.innerHTML = '';\n",
              "          dataTable['output_type'] = 'display_data';\n",
              "          await google.colab.output.renderOutput(dataTable, element);\n",
              "          const docLink = document.createElement('div');\n",
              "          docLink.innerHTML = docLinkHtml;\n",
              "          element.appendChild(docLink);\n",
              "        }\n",
              "      </script>\n",
              "    </div>\n",
              "  </div>\n",
              "  "
            ],
            "text/plain": [
              "Species   0   1\n",
              "row_0          \n",
              "0        15   7\n",
              "1         3  15"
            ]
          },
          "metadata": {},
          "execution_count": 16
        }
      ]
    },
    {
      "cell_type": "code",
      "source": [
        "#acc계산, xtrain, ytrain\n",
        "f.score(xtrain,ytrain)"
      ],
      "metadata": {
        "colab": {
          "base_uri": "https://localhost:8080/"
        },
        "id": "aOoppbhYL8QV",
        "outputId": "a53d80e8-8d8f-4116-b59e-daf881283c5d"
      },
      "execution_count": 19,
      "outputs": [
        {
          "output_type": "execute_result",
          "data": {
            "text/plain": [
              "0.9"
            ]
          },
          "metadata": {},
          "execution_count": 19
        }
      ]
    },
    {
      "cell_type": "code",
      "source": [
        "#xtest, ytest, test값이 train값보다 약간 나쁜것을 확인할 수 있다.\n",
        "f.score(xtest,ytest)"
      ],
      "metadata": {
        "colab": {
          "base_uri": "https://localhost:8080/"
        },
        "id": "z-mQs4E-L7aY",
        "outputId": "65ae798a-ba98-4030-f7f1-533667fb49db"
      },
      "execution_count": 20,
      "outputs": [
        {
          "output_type": "execute_result",
          "data": {
            "text/plain": [
              "0.75"
            ]
          },
          "metadata": {},
          "execution_count": 20
        }
      ]
    },
    {
      "cell_type": "markdown",
      "source": [
        "# **logistic regression with StatsModels**"
      ],
      "metadata": {
        "id": "2the_aRsMML2"
      }
    },
    {
      "cell_type": "code",
      "source": [
        "import statsmodels.api as sm"
      ],
      "metadata": {
        "colab": {
          "base_uri": "https://localhost:8080/"
        },
        "id": "1tcxmXT9Ko5m",
        "outputId": "20afab9d-d9f5-4a2a-d74b-81ad48a576bc"
      },
      "execution_count": 21,
      "outputs": [
        {
          "output_type": "stream",
          "name": "stderr",
          "text": [
            "/usr/local/lib/python3.7/dist-packages/statsmodels/tools/_testing.py:19: FutureWarning: pandas.util.testing is deprecated. Use the functions in the public API at pandas.testing instead.\n",
            "  import pandas.util.testing as tm\n"
          ]
        }
      ]
    },
    {
      "cell_type": "code",
      "source": [
        "#통계적인 내용(통계모델에 관심 있을 경우 실행하면 된다.)\n",
        "X = xtrain[['Petal.Length']]\n",
        "X = sm.add_constant(X)\n",
        "y = ytrain\n",
        "f = sm.Logit(y,X)\n",
        "r = f.fit()\n",
        "r.summary()\n",
        "\n",
        "# using a full model\n",
        "X = xtrain\n",
        "X = sm.add_constant(X)\n",
        "y = ytrain\n",
        "f = sm.Logit(y,X)\n",
        "r = f.fit()\n",
        "r.summary()\n",
        "\n",
        "# training set\n",
        "yhat_train_prob = r.predict(X)\n",
        "yhat_train = (yhat_train_prob>0.5).astype(int)\n",
        "pd.crosstab(yhat_train,ytrain)\n",
        "\n",
        "# test set\n",
        "yhat_test_prob = r.predict(sm.add_constant(xtest))\n",
        "yhat_test = (yhat_test_prob>0.5).astype(int)\n",
        "pd.crosstab(yhat_test,ytest)\n",
        "\n"
      ],
      "metadata": {
        "colab": {
          "base_uri": "https://localhost:8080/",
          "height": 313
        },
        "id": "srLT9ZmeJ_T1",
        "outputId": "5cc4b0c9-9468-4749-9aa7-3c94612b45da"
      },
      "execution_count": 22,
      "outputs": [
        {
          "output_type": "stream",
          "name": "stdout",
          "text": [
            "Optimization terminated successfully.\n",
            "         Current function value: 0.390325\n",
            "         Iterations 7\n",
            "Optimization terminated successfully.\n",
            "         Current function value: 0.229656\n",
            "         Iterations 9\n"
          ]
        },
        {
          "output_type": "stream",
          "name": "stderr",
          "text": [
            "/usr/local/lib/python3.7/dist-packages/statsmodels/tsa/tsatools.py:117: FutureWarning: In a future version of pandas all arguments of concat except for the argument 'objs' will be keyword-only\n",
            "  x = pd.concat(x[::order], 1)\n"
          ]
        },
        {
          "output_type": "execute_result",
          "data": {
            "text/html": [
              "\n",
              "  <div id=\"df-4588316a-15df-43a9-afe1-386d08328048\">\n",
              "    <div class=\"colab-df-container\">\n",
              "      <div>\n",
              "<style scoped>\n",
              "    .dataframe tbody tr th:only-of-type {\n",
              "        vertical-align: middle;\n",
              "    }\n",
              "\n",
              "    .dataframe tbody tr th {\n",
              "        vertical-align: top;\n",
              "    }\n",
              "\n",
              "    .dataframe thead th {\n",
              "        text-align: right;\n",
              "    }\n",
              "</style>\n",
              "<table border=\"1\" class=\"dataframe\">\n",
              "  <thead>\n",
              "    <tr style=\"text-align: right;\">\n",
              "      <th>Species</th>\n",
              "      <th>0</th>\n",
              "      <th>1</th>\n",
              "    </tr>\n",
              "    <tr>\n",
              "      <th>row_0</th>\n",
              "      <th></th>\n",
              "      <th></th>\n",
              "    </tr>\n",
              "  </thead>\n",
              "  <tbody>\n",
              "    <tr>\n",
              "      <th>0</th>\n",
              "      <td>15</td>\n",
              "      <td>7</td>\n",
              "    </tr>\n",
              "    <tr>\n",
              "      <th>1</th>\n",
              "      <td>3</td>\n",
              "      <td>15</td>\n",
              "    </tr>\n",
              "  </tbody>\n",
              "</table>\n",
              "</div>\n",
              "      <button class=\"colab-df-convert\" onclick=\"convertToInteractive('df-4588316a-15df-43a9-afe1-386d08328048')\"\n",
              "              title=\"Convert this dataframe to an interactive table.\"\n",
              "              style=\"display:none;\">\n",
              "        \n",
              "  <svg xmlns=\"http://www.w3.org/2000/svg\" height=\"24px\"viewBox=\"0 0 24 24\"\n",
              "       width=\"24px\">\n",
              "    <path d=\"M0 0h24v24H0V0z\" fill=\"none\"/>\n",
              "    <path d=\"M18.56 5.44l.94 2.06.94-2.06 2.06-.94-2.06-.94-.94-2.06-.94 2.06-2.06.94zm-11 1L8.5 8.5l.94-2.06 2.06-.94-2.06-.94L8.5 2.5l-.94 2.06-2.06.94zm10 10l.94 2.06.94-2.06 2.06-.94-2.06-.94-.94-2.06-.94 2.06-2.06.94z\"/><path d=\"M17.41 7.96l-1.37-1.37c-.4-.4-.92-.59-1.43-.59-.52 0-1.04.2-1.43.59L10.3 9.45l-7.72 7.72c-.78.78-.78 2.05 0 2.83L4 21.41c.39.39.9.59 1.41.59.51 0 1.02-.2 1.41-.59l7.78-7.78 2.81-2.81c.8-.78.8-2.07 0-2.86zM5.41 20L4 18.59l7.72-7.72 1.47 1.35L5.41 20z\"/>\n",
              "  </svg>\n",
              "      </button>\n",
              "      \n",
              "  <style>\n",
              "    .colab-df-container {\n",
              "      display:flex;\n",
              "      flex-wrap:wrap;\n",
              "      gap: 12px;\n",
              "    }\n",
              "\n",
              "    .colab-df-convert {\n",
              "      background-color: #E8F0FE;\n",
              "      border: none;\n",
              "      border-radius: 50%;\n",
              "      cursor: pointer;\n",
              "      display: none;\n",
              "      fill: #1967D2;\n",
              "      height: 32px;\n",
              "      padding: 0 0 0 0;\n",
              "      width: 32px;\n",
              "    }\n",
              "\n",
              "    .colab-df-convert:hover {\n",
              "      background-color: #E2EBFA;\n",
              "      box-shadow: 0px 1px 2px rgba(60, 64, 67, 0.3), 0px 1px 3px 1px rgba(60, 64, 67, 0.15);\n",
              "      fill: #174EA6;\n",
              "    }\n",
              "\n",
              "    [theme=dark] .colab-df-convert {\n",
              "      background-color: #3B4455;\n",
              "      fill: #D2E3FC;\n",
              "    }\n",
              "\n",
              "    [theme=dark] .colab-df-convert:hover {\n",
              "      background-color: #434B5C;\n",
              "      box-shadow: 0px 1px 3px 1px rgba(0, 0, 0, 0.15);\n",
              "      filter: drop-shadow(0px 1px 2px rgba(0, 0, 0, 0.3));\n",
              "      fill: #FFFFFF;\n",
              "    }\n",
              "  </style>\n",
              "\n",
              "      <script>\n",
              "        const buttonEl =\n",
              "          document.querySelector('#df-4588316a-15df-43a9-afe1-386d08328048 button.colab-df-convert');\n",
              "        buttonEl.style.display =\n",
              "          google.colab.kernel.accessAllowed ? 'block' : 'none';\n",
              "\n",
              "        async function convertToInteractive(key) {\n",
              "          const element = document.querySelector('#df-4588316a-15df-43a9-afe1-386d08328048');\n",
              "          const dataTable =\n",
              "            await google.colab.kernel.invokeFunction('convertToInteractive',\n",
              "                                                     [key], {});\n",
              "          if (!dataTable) return;\n",
              "\n",
              "          const docLinkHtml = 'Like what you see? Visit the ' +\n",
              "            '<a target=\"_blank\" href=https://colab.research.google.com/notebooks/data_table.ipynb>data table notebook</a>'\n",
              "            + ' to learn more about interactive tables.';\n",
              "          element.innerHTML = '';\n",
              "          dataTable['output_type'] = 'display_data';\n",
              "          await google.colab.output.renderOutput(dataTable, element);\n",
              "          const docLink = document.createElement('div');\n",
              "          docLink.innerHTML = docLinkHtml;\n",
              "          element.appendChild(docLink);\n",
              "        }\n",
              "      </script>\n",
              "    </div>\n",
              "  </div>\n",
              "  "
            ],
            "text/plain": [
              "Species   0   1\n",
              "row_0          \n",
              "0        15   7\n",
              "1         3  15"
            ]
          },
          "metadata": {},
          "execution_count": 22
        }
      ]
    }
  ]
}
