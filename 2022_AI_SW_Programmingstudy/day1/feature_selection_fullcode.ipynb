{
  "nbformat": 4,
  "nbformat_minor": 0,
  "metadata": {
    "colab": {
      "name": "feature_selection.ipynb",
      "provenance": [],
      "authorship_tag": "ABX9TyPdg04dhHfv1N6+Znovb5BP",
      "include_colab_link": true
    },
    "kernelspec": {
      "name": "python3",
      "display_name": "Python 3"
    },
    "language_info": {
      "name": "python"
    }
  },
  "cells": [
    {
      "cell_type": "markdown",
      "metadata": {
        "id": "view-in-github",
        "colab_type": "text"
      },
      "source": [
        "<a href=\"https://colab.research.google.com/github/kimheeseo/2022_AI_SW_Programmingstudy/blob/main/feature_selection_fullcode.ipynb\" target=\"_parent\"><img src=\"https://colab.research.google.com/assets/colab-badge.svg\" alt=\"Open In Colab\"/></a>"
      ]
    },
    {
      "cell_type": "code",
      "execution_count": 1,
      "metadata": {
        "colab": {
          "base_uri": "https://localhost:8080/"
        },
        "id": "pEEgghH8Z-US",
        "outputId": "c07b0e32-709d-4d9a-b9b5-fa35e468df22"
      },
      "outputs": [
        {
          "output_type": "stream",
          "name": "stdout",
          "text": [
            "00 Selected: ['bmi']\n",
            "00 Score   : [0.3935]\n",
            "01 Selected: ['bmi', 'ltg']\n",
            "01 Score   : [0.3935 0.544 ]\n",
            "02 Selected: ['bmi', 'ltg', 'hdl']\n",
            "02 Score   : [0.3935 0.544  0.5556]\n",
            "03 Selected: ['bmi', 'ltg', 'hdl', 'sex']\n",
            "03 Score   : [0.3935 0.544  0.5556 0.5627]\n",
            "04 Selected: ['bmi', 'ltg', 'hdl', 'sex', 'map']\n",
            "04 Score   : [0.3935 0.544  0.5556 0.5627 0.5657]\n",
            "05 Selected: ['bmi', 'ltg', 'hdl', 'sex', 'map', 'tch']\n",
            "05 Score   : [0.3935 0.544  0.5556 0.5627 0.5657 0.5587]\n",
            "06 Selected: ['bmi', 'ltg', 'hdl', 'sex', 'map', 'tch', 'tc']\n",
            "06 Score   : [0.3935 0.544  0.5556 0.5627 0.5657 0.5587 0.5475]\n",
            "07 Selected: ['bmi', 'ltg', 'hdl', 'sex', 'map', 'tch', 'tc', 'ldl']\n",
            "07 Score   : [0.3935 0.544  0.5556 0.5627 0.5657 0.5587 0.5475 0.5342]\n",
            "08 Selected: ['bmi', 'ltg', 'hdl', 'sex', 'map', 'tch', 'tc', 'ldl', 'glu']\n",
            "08 Score   : [0.3935 0.544  0.5556 0.5627 0.5657 0.5587 0.5475 0.5342 0.5208]\n",
            "09 Selected: ['bmi', 'ltg', 'hdl', 'sex', 'map', 'tch', 'tc', 'ldl', 'glu', 'age']\n",
            "09 Score   : [0.3935 0.544  0.5556 0.5627 0.5657 0.5587 0.5475 0.5342 0.5208 0.5041]\n"
          ]
        },
        {
          "output_type": "execute_result",
          "data": {
            "text/plain": [
              "0.43510681849311494"
            ]
          },
          "metadata": {},
          "execution_count": 1
        }
      ],
      "source": [
        "# libraries\n",
        "import numpy as np\n",
        "import scipy as sp\n",
        "import pandas as pd\n",
        "\n",
        "# read data\n",
        "df = pd.read_csv('data07_diabetes.csv')\n",
        "X = df.iloc[:,:-1]\n",
        "y = df['Y']\n",
        "\n",
        "# boston data set\n",
        "from sklearn.model_selection import train_test_split\n",
        "xtrain,xtest,ytrain,ytest = train_test_split(X,y,test_size=0.75,random_state=0)\n",
        "\n",
        "# forward feature selection\n",
        "np.random.seed(0)\n",
        "from sklearn.linear_model import LinearRegression\n",
        "from sklearn.model_selection import cross_val_score\n",
        "vn = list(xtrain.columns)\n",
        "f_sel= []\n",
        "score = []\n",
        "for i in range(xtrain.shape[1]):\n",
        "    s = np.zeros(len(vn))\n",
        "    for j in range(len(vn)):\n",
        "        v = f_sel.copy()\n",
        "        v.append(vn[j])\n",
        "        x = xtrain[v]\n",
        "        f = LinearRegression()\n",
        "        cv_score = cross_val_score(f,x,ytrain,cv=5)\n",
        "        s[j] = cv_score.mean()\n",
        "    v = vn[s.argmax()]\n",
        "    f_sel.append(v)\n",
        "    vn.remove(v)\n",
        "    score.append(s.max())\n",
        "    print(\"%02d Selected:\"%i,f_sel)\n",
        "    print(\"%02d Score   :\"%i,np.round(10000*np.array(score))/10000)\n",
        "\n",
        "# finally selected features    \n",
        "f_sel_final = f_sel[:(np.array(score).argmax()+1)]\n",
        "\n",
        "# test on the test set\n",
        "from sklearn.linear_model import LinearRegression\n",
        "f = LinearRegression()\n",
        "f.fit(xtrain[f_sel_final],ytrain)\n",
        "f.score(xtest[f_sel_final],ytest)\n",
        "\n",
        "# comparison with the full model\n",
        "f.fit(xtrain,ytrain)\n",
        "f.score(xtest,ytest)"
      ]
    }
  ]
}
