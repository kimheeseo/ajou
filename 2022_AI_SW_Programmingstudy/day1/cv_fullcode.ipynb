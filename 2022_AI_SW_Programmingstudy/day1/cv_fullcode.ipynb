{
  "nbformat": 4,
  "nbformat_minor": 0,
  "metadata": {
    "colab": {
      "name": "cv_fullcode.ipynb",
      "provenance": [],
      "authorship_tag": "ABX9TyMAwtsP/g3FR3yfRVcikvf1",
      "include_colab_link": true
    },
    "kernelspec": {
      "name": "python3",
      "display_name": "Python 3"
    },
    "language_info": {
      "name": "python"
    }
  },
  "cells": [
    {
      "cell_type": "markdown",
      "metadata": {
        "id": "view-in-github",
        "colab_type": "text"
      },
      "source": [
        "<a href=\"https://colab.research.google.com/github/kimheeseo/2022_AI_SW_Programmingstudy/blob/main/cv_fullcode.ipynb\" target=\"_parent\"><img src=\"https://colab.research.google.com/assets/colab-badge.svg\" alt=\"Open In Colab\"/></a>"
      ]
    },
    {
      "cell_type": "code",
      "execution_count": 1,
      "metadata": {
        "colab": {
          "base_uri": "https://localhost:8080/"
        },
        "id": "5D3RlUiEYCom",
        "outputId": "dd43f760-56bd-4dae-c091-d326c60c1664"
      },
      "outputs": [
        {
          "output_type": "stream",
          "name": "stderr",
          "text": [
            "/usr/local/lib/python3.7/dist-packages/sklearn/linear_model/_logistic.py:818: ConvergenceWarning: lbfgs failed to converge (status=1):\n",
            "STOP: TOTAL NO. of ITERATIONS REACHED LIMIT.\n",
            "\n",
            "Increase the number of iterations (max_iter) or scale the data as shown in:\n",
            "    https://scikit-learn.org/stable/modules/preprocessing.html\n",
            "Please also refer to the documentation for alternative solver options:\n",
            "    https://scikit-learn.org/stable/modules/linear_model.html#logistic-regression\n",
            "  extra_warning_msg=_LOGISTIC_SOLVER_CONVERGENCE_MSG,\n"
          ]
        },
        {
          "output_type": "execute_result",
          "data": {
            "text/plain": [
              "0.9777777777777777"
            ]
          },
          "metadata": {},
          "execution_count": 1
        }
      ],
      "source": [
        "# libraries\n",
        "import numpy as np\n",
        "import scipy as sp\n",
        "import pandas as pd\n",
        "import matplotlib.pyplot as plt\n",
        "%matplotlib inline\n",
        "\n",
        "# read data from file\n",
        "df = pd.read_csv('data01_iris.csv')\n",
        "X = df.iloc[:,:-1]\n",
        "Y = df['Species']\n",
        "\n",
        "# separating train & test sets\n",
        "from sklearn.model_selection import train_test_split\n",
        "xtrain, xtest, ytrain, ytest = train_test_split(X,Y,test_size=0.3,random_state=0) \n",
        "\n",
        "# K-fold CV\n",
        "from sklearn.linear_model import LogisticRegression\n",
        "from sklearn.model_selection import cross_val_score\n",
        "f = LogisticRegression()\n",
        "f.fit(xtrain,ytrain)\n",
        "f.score(xtrain,ytrain)\n",
        "f.score(xtest,ytest)\n",
        "s = cross_val_score(f,xtrain,ytrain,cv=3)\n",
        "s.mean()\n",
        "\n",
        "# Validation set\n",
        "xtemp, xtest, ytemp, ytest = train_test_split(X,Y,test_size=0.3,random_state=0) \n",
        "xtrain, xval, ytrain, yval = train_test_split(xtemp,ytemp,test_size=0.5,random_state=1) \n",
        "from sklearn.linear_model import LogisticRegression\n",
        "f = LogisticRegression()\n",
        "f.fit(xtrain,ytrain)\n",
        "f.score(xtrain,ytrain)\n",
        "f.score(xval,yval)\n",
        "f.score(xtest,ytest)\n",
        "\n"
      ]
    }
  ]
}
