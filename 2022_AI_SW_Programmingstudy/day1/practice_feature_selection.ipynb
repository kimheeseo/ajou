{
  "nbformat": 4,
  "nbformat_minor": 0,
  "metadata": {
    "colab": {
      "name": "practice_feature_selection.ipynb",
      "provenance": [],
      "authorship_tag": "ABX9TyMIhwx0q8MrLx0P+rOOkeax",
      "include_colab_link": true
    },
    "kernelspec": {
      "name": "python3",
      "display_name": "Python 3"
    },
    "language_info": {
      "name": "python"
    }
  },
  "cells": [
    {
      "cell_type": "markdown",
      "metadata": {
        "id": "view-in-github",
        "colab_type": "text"
      },
      "source": [
        "<a href=\"https://colab.research.google.com/github/kimheeseo/2022_AI_SW_Programmingstudy/blob/main/practice_feature_selection.ipynb\" target=\"_parent\"><img src=\"https://colab.research.google.com/assets/colab-badge.svg\" alt=\"Open In Colab\"/></a>"
      ]
    },
    {
      "cell_type": "code",
      "execution_count": 1,
      "metadata": {
        "id": "ejExTdOCaK7D"
      },
      "outputs": [],
      "source": [
        "# libraries\n",
        "import numpy as np\n",
        "import scipy as sp\n",
        "import pandas as pd"
      ]
    },
    {
      "cell_type": "code",
      "source": [
        "# read data\n",
        "df = pd.read_csv('data07_diabetes.csv')\n",
        "X = df.iloc[:,:-1]\n",
        "y = df['Y']"
      ],
      "metadata": {
        "id": "saManrdSaPpC"
      },
      "execution_count": 3,
      "outputs": []
    },
    {
      "cell_type": "code",
      "source": [
        "df.head()"
      ],
      "metadata": {
        "colab": {
          "base_uri": "https://localhost:8080/",
          "height": 206
        },
        "id": "3uu8vh8paWB1",
        "outputId": "71c53bc9-dd05-4b18-f10f-f0284848c25b"
      },
      "execution_count": 4,
      "outputs": [
        {
          "output_type": "execute_result",
          "data": {
            "text/html": [
              "\n",
              "  <div id=\"df-b219daf5-4f36-4f20-af18-732f583a657f\">\n",
              "    <div class=\"colab-df-container\">\n",
              "      <div>\n",
              "<style scoped>\n",
              "    .dataframe tbody tr th:only-of-type {\n",
              "        vertical-align: middle;\n",
              "    }\n",
              "\n",
              "    .dataframe tbody tr th {\n",
              "        vertical-align: top;\n",
              "    }\n",
              "\n",
              "    .dataframe thead th {\n",
              "        text-align: right;\n",
              "    }\n",
              "</style>\n",
              "<table border=\"1\" class=\"dataframe\">\n",
              "  <thead>\n",
              "    <tr style=\"text-align: right;\">\n",
              "      <th></th>\n",
              "      <th>age</th>\n",
              "      <th>sex</th>\n",
              "      <th>bmi</th>\n",
              "      <th>map</th>\n",
              "      <th>tc</th>\n",
              "      <th>ldl</th>\n",
              "      <th>hdl</th>\n",
              "      <th>tch</th>\n",
              "      <th>ltg</th>\n",
              "      <th>glu</th>\n",
              "      <th>Y</th>\n",
              "    </tr>\n",
              "  </thead>\n",
              "  <tbody>\n",
              "    <tr>\n",
              "      <th>0</th>\n",
              "      <td>0.038076</td>\n",
              "      <td>0.050680</td>\n",
              "      <td>0.061696</td>\n",
              "      <td>0.021872</td>\n",
              "      <td>-0.044223</td>\n",
              "      <td>-0.034821</td>\n",
              "      <td>-0.043401</td>\n",
              "      <td>-0.002592</td>\n",
              "      <td>0.019908</td>\n",
              "      <td>-0.017646</td>\n",
              "      <td>151</td>\n",
              "    </tr>\n",
              "    <tr>\n",
              "      <th>1</th>\n",
              "      <td>-0.001882</td>\n",
              "      <td>-0.044642</td>\n",
              "      <td>-0.051474</td>\n",
              "      <td>-0.026328</td>\n",
              "      <td>-0.008449</td>\n",
              "      <td>-0.019163</td>\n",
              "      <td>0.074412</td>\n",
              "      <td>-0.039493</td>\n",
              "      <td>-0.068330</td>\n",
              "      <td>-0.092204</td>\n",
              "      <td>75</td>\n",
              "    </tr>\n",
              "    <tr>\n",
              "      <th>2</th>\n",
              "      <td>0.085299</td>\n",
              "      <td>0.050680</td>\n",
              "      <td>0.044451</td>\n",
              "      <td>-0.005671</td>\n",
              "      <td>-0.045599</td>\n",
              "      <td>-0.034194</td>\n",
              "      <td>-0.032356</td>\n",
              "      <td>-0.002592</td>\n",
              "      <td>0.002864</td>\n",
              "      <td>-0.025930</td>\n",
              "      <td>141</td>\n",
              "    </tr>\n",
              "    <tr>\n",
              "      <th>3</th>\n",
              "      <td>-0.089063</td>\n",
              "      <td>-0.044642</td>\n",
              "      <td>-0.011595</td>\n",
              "      <td>-0.036656</td>\n",
              "      <td>0.012191</td>\n",
              "      <td>0.024991</td>\n",
              "      <td>-0.036038</td>\n",
              "      <td>0.034309</td>\n",
              "      <td>0.022692</td>\n",
              "      <td>-0.009362</td>\n",
              "      <td>206</td>\n",
              "    </tr>\n",
              "    <tr>\n",
              "      <th>4</th>\n",
              "      <td>0.005383</td>\n",
              "      <td>-0.044642</td>\n",
              "      <td>-0.036385</td>\n",
              "      <td>0.021872</td>\n",
              "      <td>0.003935</td>\n",
              "      <td>0.015596</td>\n",
              "      <td>0.008142</td>\n",
              "      <td>-0.002592</td>\n",
              "      <td>-0.031991</td>\n",
              "      <td>-0.046641</td>\n",
              "      <td>135</td>\n",
              "    </tr>\n",
              "  </tbody>\n",
              "</table>\n",
              "</div>\n",
              "      <button class=\"colab-df-convert\" onclick=\"convertToInteractive('df-b219daf5-4f36-4f20-af18-732f583a657f')\"\n",
              "              title=\"Convert this dataframe to an interactive table.\"\n",
              "              style=\"display:none;\">\n",
              "        \n",
              "  <svg xmlns=\"http://www.w3.org/2000/svg\" height=\"24px\"viewBox=\"0 0 24 24\"\n",
              "       width=\"24px\">\n",
              "    <path d=\"M0 0h24v24H0V0z\" fill=\"none\"/>\n",
              "    <path d=\"M18.56 5.44l.94 2.06.94-2.06 2.06-.94-2.06-.94-.94-2.06-.94 2.06-2.06.94zm-11 1L8.5 8.5l.94-2.06 2.06-.94-2.06-.94L8.5 2.5l-.94 2.06-2.06.94zm10 10l.94 2.06.94-2.06 2.06-.94-2.06-.94-.94-2.06-.94 2.06-2.06.94z\"/><path d=\"M17.41 7.96l-1.37-1.37c-.4-.4-.92-.59-1.43-.59-.52 0-1.04.2-1.43.59L10.3 9.45l-7.72 7.72c-.78.78-.78 2.05 0 2.83L4 21.41c.39.39.9.59 1.41.59.51 0 1.02-.2 1.41-.59l7.78-7.78 2.81-2.81c.8-.78.8-2.07 0-2.86zM5.41 20L4 18.59l7.72-7.72 1.47 1.35L5.41 20z\"/>\n",
              "  </svg>\n",
              "      </button>\n",
              "      \n",
              "  <style>\n",
              "    .colab-df-container {\n",
              "      display:flex;\n",
              "      flex-wrap:wrap;\n",
              "      gap: 12px;\n",
              "    }\n",
              "\n",
              "    .colab-df-convert {\n",
              "      background-color: #E8F0FE;\n",
              "      border: none;\n",
              "      border-radius: 50%;\n",
              "      cursor: pointer;\n",
              "      display: none;\n",
              "      fill: #1967D2;\n",
              "      height: 32px;\n",
              "      padding: 0 0 0 0;\n",
              "      width: 32px;\n",
              "    }\n",
              "\n",
              "    .colab-df-convert:hover {\n",
              "      background-color: #E2EBFA;\n",
              "      box-shadow: 0px 1px 2px rgba(60, 64, 67, 0.3), 0px 1px 3px 1px rgba(60, 64, 67, 0.15);\n",
              "      fill: #174EA6;\n",
              "    }\n",
              "\n",
              "    [theme=dark] .colab-df-convert {\n",
              "      background-color: #3B4455;\n",
              "      fill: #D2E3FC;\n",
              "    }\n",
              "\n",
              "    [theme=dark] .colab-df-convert:hover {\n",
              "      background-color: #434B5C;\n",
              "      box-shadow: 0px 1px 3px 1px rgba(0, 0, 0, 0.15);\n",
              "      filter: drop-shadow(0px 1px 2px rgba(0, 0, 0, 0.3));\n",
              "      fill: #FFFFFF;\n",
              "    }\n",
              "  </style>\n",
              "\n",
              "      <script>\n",
              "        const buttonEl =\n",
              "          document.querySelector('#df-b219daf5-4f36-4f20-af18-732f583a657f button.colab-df-convert');\n",
              "        buttonEl.style.display =\n",
              "          google.colab.kernel.accessAllowed ? 'block' : 'none';\n",
              "\n",
              "        async function convertToInteractive(key) {\n",
              "          const element = document.querySelector('#df-b219daf5-4f36-4f20-af18-732f583a657f');\n",
              "          const dataTable =\n",
              "            await google.colab.kernel.invokeFunction('convertToInteractive',\n",
              "                                                     [key], {});\n",
              "          if (!dataTable) return;\n",
              "\n",
              "          const docLinkHtml = 'Like what you see? Visit the ' +\n",
              "            '<a target=\"_blank\" href=https://colab.research.google.com/notebooks/data_table.ipynb>data table notebook</a>'\n",
              "            + ' to learn more about interactive tables.';\n",
              "          element.innerHTML = '';\n",
              "          dataTable['output_type'] = 'display_data';\n",
              "          await google.colab.output.renderOutput(dataTable, element);\n",
              "          const docLink = document.createElement('div');\n",
              "          docLink.innerHTML = docLinkHtml;\n",
              "          element.appendChild(docLink);\n",
              "        }\n",
              "      </script>\n",
              "    </div>\n",
              "  </div>\n",
              "  "
            ],
            "text/plain": [
              "        age       sex       bmi       map  ...       tch       ltg       glu    Y\n",
              "0  0.038076  0.050680  0.061696  0.021872  ... -0.002592  0.019908 -0.017646  151\n",
              "1 -0.001882 -0.044642 -0.051474 -0.026328  ... -0.039493 -0.068330 -0.092204   75\n",
              "2  0.085299  0.050680  0.044451 -0.005671  ... -0.002592  0.002864 -0.025930  141\n",
              "3 -0.089063 -0.044642 -0.011595 -0.036656  ...  0.034309  0.022692 -0.009362  206\n",
              "4  0.005383 -0.044642 -0.036385  0.021872  ... -0.002592 -0.031991 -0.046641  135\n",
              "\n",
              "[5 rows x 11 columns]"
            ]
          },
          "metadata": {},
          "execution_count": 4
        }
      ]
    },
    {
      "cell_type": "markdown",
      "source": [
        "# **boston data set**"
      ],
      "metadata": {
        "id": "8s4YnrcIagjc"
      }
    },
    {
      "cell_type": "code",
      "source": [
        "from sklearn.model_selection import train_test_split\n",
        "xtrain,xtest,ytrain,ytest = train_test_split(X,y,test_size=0.75,random_state=0)\n",
        "#testset을 의도적으로 크게 설정하고, trainset을 작게하여, noise값을 크게 만들었다."
      ],
      "metadata": {
        "id": "G91trUbjafP2"
      },
      "execution_count": 5,
      "outputs": []
    },
    {
      "cell_type": "markdown",
      "source": [
        "# **forward feature selection**"
      ],
      "metadata": {
        "id": "l3hjKPwUaxLi"
      }
    },
    {
      "cell_type": "code",
      "source": [
        "np.random.seed(0)\n",
        "from sklearn.linear_model import LinearRegression\n",
        "from sklearn.model_selection import cross_val_score #각각의 모델을 평가하기 위해서, cross validation 기법 활용"
      ],
      "metadata": {
        "id": "rA5t86lzaoxm"
      },
      "execution_count": 6,
      "outputs": []
    },
    {
      "cell_type": "code",
      "source": [
        "#따로 구현한 방법 : forward selection\n",
        "vn = list(xtrain.columns) #variable name : vn ex) age, sex, bmi, map, fc, ...... \n",
        "f_sel= [] \n",
        "score = [] #score : 모델의 성능이 얼마인지를 나타내는 지표값.\n",
        "for i in range(xtrain.shape[1]): #모든 column에 대해서 진행\n",
        "    s = np.zeros(len(vn))\n",
        "    for j in range(len(vn)):\n",
        "        v = f_sel.copy()#f_sel(현재 selected된 값)을 copy한다.\n",
        "        v.append(vn[j])\n",
        "        x = xtrain[v]\n",
        "        f = LinearRegression()\n",
        "        cv_score = cross_val_score(f,x,ytrain,cv=5) #교차검증을 5개로 나눠서 진행\n",
        "        s[j] = cv_score.mean()#j번째 score\n",
        "    v = vn[s.argmax()] #가장 큰 값을 argmax로 선택한 후, v에 입력.\n",
        "    f_sel.append(v)\n",
        "    vn.remove(v)\n",
        "    score.append(s.max())#제일 좋았던 scroe를 출력한다.\n",
        "    print(\"%02d Selected:\"%i,f_sel)\n",
        "    print(\"%02d Score   :\"%i,np.round(10000*np.array(score))/10000)\n",
        "    #결과값을 보면 10번 반복되는 것을 확인할 수 있다.\n",
        "    #00 selected : 초기에는 여러 변수 중 bmi를 test를 했다. 가장 좋은 결과값을 갖기 때문에.\n",
        "    #01 selected : ltg 사용, 02 selected : hdl ......\n",
        "    #bmi에서 under fitting, age에서는 over fitting이 발생한다.\n",
        "    #09 score 중에서 가장 값이 큰, map : 0.5657이 가장 좋은 값을 갖는다. 5개를 넣었을 때, 가장 좋은 성능을 보인다."
      ],
      "metadata": {
        "colab": {
          "base_uri": "https://localhost:8080/"
        },
        "id": "YQ3DvtLxaM2s",
        "outputId": "aedf949b-d6aa-4804-cc1a-5958882d34dc"
      },
      "execution_count": 8,
      "outputs": [
        {
          "output_type": "stream",
          "name": "stdout",
          "text": [
            "00 Selected: ['bmi']\n",
            "00 Score   : [0.3935]\n",
            "01 Selected: ['bmi', 'ltg']\n",
            "01 Score   : [0.3935 0.544 ]\n",
            "02 Selected: ['bmi', 'ltg', 'hdl']\n",
            "02 Score   : [0.3935 0.544  0.5556]\n",
            "03 Selected: ['bmi', 'ltg', 'hdl', 'sex']\n",
            "03 Score   : [0.3935 0.544  0.5556 0.5627]\n",
            "04 Selected: ['bmi', 'ltg', 'hdl', 'sex', 'map']\n",
            "04 Score   : [0.3935 0.544  0.5556 0.5627 0.5657]\n",
            "05 Selected: ['bmi', 'ltg', 'hdl', 'sex', 'map', 'tch']\n",
            "05 Score   : [0.3935 0.544  0.5556 0.5627 0.5657 0.5587]\n",
            "06 Selected: ['bmi', 'ltg', 'hdl', 'sex', 'map', 'tch', 'tc']\n",
            "06 Score   : [0.3935 0.544  0.5556 0.5627 0.5657 0.5587 0.5475]\n",
            "07 Selected: ['bmi', 'ltg', 'hdl', 'sex', 'map', 'tch', 'tc', 'ldl']\n",
            "07 Score   : [0.3935 0.544  0.5556 0.5627 0.5657 0.5587 0.5475 0.5342]\n",
            "08 Selected: ['bmi', 'ltg', 'hdl', 'sex', 'map', 'tch', 'tc', 'ldl', 'glu']\n",
            "08 Score   : [0.3935 0.544  0.5556 0.5627 0.5657 0.5587 0.5475 0.5342 0.5208]\n",
            "09 Selected: ['bmi', 'ltg', 'hdl', 'sex', 'map', 'tch', 'tc', 'ldl', 'glu', 'age']\n",
            "09 Score   : [0.3935 0.544  0.5556 0.5627 0.5657 0.5587 0.5475 0.5342 0.5208 0.5041]\n"
          ]
        }
      ]
    },
    {
      "cell_type": "markdown",
      "source": [
        "# **finally selected features**"
      ],
      "metadata": {
        "id": "yj3WT3ZNduQW"
      }
    },
    {
      "cell_type": "code",
      "source": [
        "f_sel_final = f_sel[:(np.array(score).argmax()+1)]"
      ],
      "metadata": {
        "id": "ImP3u-wrceG9"
      },
      "execution_count": 9,
      "outputs": []
    },
    {
      "cell_type": "code",
      "source": [
        "f_sel_final"
      ],
      "metadata": {
        "colab": {
          "base_uri": "https://localhost:8080/"
        },
        "id": "gO1ZqrPJd3Tq",
        "outputId": "fbdfd891-1767-4b17-a849-f3b708d93610"
      },
      "execution_count": 11,
      "outputs": [
        {
          "output_type": "execute_result",
          "data": {
            "text/plain": [
              "['bmi', 'ltg', 'hdl', 'sex', 'map']"
            ]
          },
          "metadata": {},
          "execution_count": 11
        }
      ]
    },
    {
      "cell_type": "markdown",
      "source": [
        "# **test on the test set**"
      ],
      "metadata": {
        "id": "qNJEaf_AdzfK"
      }
    },
    {
      "cell_type": "code",
      "source": [
        "from sklearn.linear_model import LinearRegression\n",
        "f = LinearRegression()\n",
        "f.fit(xtrain[f_sel_final],ytrain)\n",
        "f.score(xtest[f_sel_final],ytest)"
      ],
      "metadata": {
        "colab": {
          "base_uri": "https://localhost:8080/"
        },
        "id": "gppNeppxdy7S",
        "outputId": "46ec54ba-1594-4122-9571-4e76bee11715"
      },
      "execution_count": 12,
      "outputs": [
        {
          "output_type": "execute_result",
          "data": {
            "text/plain": [
              "0.43841451014788213"
            ]
          },
          "metadata": {},
          "execution_count": 12
        }
      ]
    },
    {
      "cell_type": "code",
      "source": [
        "# comparison with the full model\n",
        "f.fit(xtrain,ytrain)\n",
        "f.score(xtest,ytest)\n",
        "#위의 값보다 약간이나마 성능이 안좋다는 것을 확인할 수 있다."
      ],
      "metadata": {
        "colab": {
          "base_uri": "https://localhost:8080/"
        },
        "id": "NEj0QF0Qd9WL",
        "outputId": "394dd1f8-e0a7-4014-915f-c10cbf6cf486"
      },
      "execution_count": 13,
      "outputs": [
        {
          "output_type": "execute_result",
          "data": {
            "text/plain": [
              "0.43510681849311494"
            ]
          },
          "metadata": {},
          "execution_count": 13
        }
      ]
    },
    {
      "cell_type": "markdown",
      "source": [
        "참고사이트 : https://scikit-learn.org/stable/modules/feature_selection.html\n",
        "Sequnetial Feature Selection 확인"
      ],
      "metadata": {
        "id": "pvgUKMfdeQm2"
      }
    }
  ]
}
