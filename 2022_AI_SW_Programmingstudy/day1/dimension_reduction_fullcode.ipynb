{
  "nbformat": 4,
  "nbformat_minor": 0,
  "metadata": {
    "colab": {
      "name": "dimension_reduction_fullcode.ipynb",
      "provenance": [],
      "authorship_tag": "ABX9TyPFd4d7l09z0tq3Jtt07SgC",
      "include_colab_link": true
    },
    "kernelspec": {
      "name": "python3",
      "display_name": "Python 3"
    },
    "language_info": {
      "name": "python"
    }
  },
  "cells": [
    {
      "cell_type": "markdown",
      "metadata": {
        "id": "view-in-github",
        "colab_type": "text"
      },
      "source": [
        "<a href=\"https://colab.research.google.com/github/kimheeseo/2022_AI_SW_Programmingstudy/blob/main/dimension_reduction_fullcode.ipynb\" target=\"_parent\"><img src=\"https://colab.research.google.com/assets/colab-badge.svg\" alt=\"Open In Colab\"/></a>"
      ]
    },
    {
      "cell_type": "code",
      "execution_count": null,
      "metadata": {
        "id": "WexHf3T0gXvj"
      },
      "outputs": [],
      "source": [
        "# libraries\n",
        "import numpy as np\n",
        "import scipy as sp\n",
        "import pandas as pd\n",
        "\n",
        "# read data\n",
        "df = pd.read_csv('data05_boston.csv')\n",
        "X = df.iloc[:,:-1]\n",
        "y = df['medv']\n",
        "from sklearn.model_selection import train_test_split\n",
        "xtrain,xtest,ytrain,ytest = train_test_split(X,y,test_size=0.5,random_state=0)\n",
        "\n",
        "# ordinary linear regression\n",
        "from sklearn.linear_model import LinearRegression\n",
        "f = LinearRegression()\n",
        "f.fit(xtrain,ytrain) # all 13 X's\n",
        "f.score(xtrain,ytrain)\n",
        "f.score(xtest,ytest)\n",
        "# selected features\n",
        "fsel = ['crim','zn','indus']\n",
        "#fsel = ['lstat','age','rm']\n",
        "xtrain2 = xtrain[fsel]\n",
        "xtest2 = xtest[fsel]\n",
        "f.fit(xtrain2,ytrain)\n",
        "f.score(xtest2,ytest)\n",
        "\n",
        "\n",
        "# pcr\n",
        "from sklearn.decomposition import PCA\n",
        "pca = PCA(n_components=13)\n",
        "pca.fit(xtrain)\n",
        "xtrain_trans = pca.transform(xtrain)\n",
        "xtest_trans = pca.transform(xtest)\n",
        "f = LinearRegression()\n",
        "f.fit(xtrain_trans,ytrain)\n",
        "f.score(xtest_trans,ytest)\n",
        "\n",
        "# after scaling\n",
        "from sklearn.preprocessing import StandardScaler\n",
        "s = StandardScaler()\n",
        "s.fit(xtrain)\n",
        "from sklearn.decomposition import PCA\n",
        "pca = PCA(n_components=13)\n",
        "pca.fit(s.transform(xtrain))\n",
        "xtrain_trans = pca.transform(s.transform(xtrain))\n",
        "xtest_trans = pca.transform(x.transform(xtest))\n",
        "f = LinearRegression()\n",
        "f.fit(xtrain_trans,ytrain)\n",
        "f.score(xtest_trans,ytest)"
      ]
    }
  ]
}
