{
  "nbformat": 4,
  "nbformat_minor": 0,
  "metadata": {
    "colab": {
      "name": "Linear Regression_FullCode.ipynb",
      "provenance": [],
      "authorship_tag": "ABX9TyNhGvHt1ihTsFJtPhvWuZ4A",
      "include_colab_link": true
    },
    "kernelspec": {
      "name": "python3",
      "display_name": "Python 3"
    },
    "language_info": {
      "name": "python"
    }
  },
  "cells": [
    {
      "cell_type": "markdown",
      "metadata": {
        "id": "view-in-github",
        "colab_type": "text"
      },
      "source": [
        "<a href=\"https://colab.research.google.com/github/kimheeseo/2022_AI_SW_Programmingstudy/blob/main/Linear_Regression_FullCode.ipynb\" target=\"_parent\"><img src=\"https://colab.research.google.com/assets/colab-badge.svg\" alt=\"Open In Colab\"/></a>"
      ]
    },
    {
      "cell_type": "code",
      "execution_count": null,
      "metadata": {
        "id": "z4I0opSN6LvX"
      },
      "outputs": [],
      "source": [
        "# libraries\n",
        "import numpy as np\n",
        "import scipy as sp\n",
        "import pandas as pd\n",
        "import matplotlib.pyplot as plt\n",
        "%matplotlib inline\n",
        "\n",
        "# read data\n",
        "df = pd.read_csv('data05_boston.csv')\n",
        "\n",
        "# simple linear regression\n",
        "from sklearn.linear_model import LinearRegression\n",
        "X = df[ ['lstat'] ]\n",
        "y = df['medv']\n",
        "lm = LinearRegression()\n",
        "lm.fit(X,y)\n",
        "lm.coef_  # coefficients\n",
        "lm.intercept_ # intercepter\n",
        "yhat = lm.predict(X) # prediction\n",
        "r2 = lm.score(X,y) # R2\n",
        "rmse = np.sqrt(((y-yhat)**2).mean())\n",
        "\n",
        "plt.plot(X,y,'bo')\n",
        "plt.plot(X,yhat,'r',linewidth=2)\n",
        "plt.title('%s vs. Medv: %.2f' % ('lstat',r2))\n",
        "plt.show()\n",
        "\n",
        "# multiple linear regression\n",
        "X = df.iloc[:,0:13]\n",
        "y = df['medv']\n",
        "lm = LinearRegression()\n",
        "lm.fit(X,y)\n",
        "lm.coef_  # coefficients\n",
        "lm.intercept_ # intercepter\n",
        "yhat = lm.predict(X) # prediction\n",
        "r2 = lm.score(X,y) # R2\n",
        "rmse = np.sqrt(((y-yhat)**2).mean())\n",
        "\n",
        "plt.plot(yhat,y,'bo')\n",
        "plt.title('All vs. Medv: %.2f' % r2)\n",
        "plt.show()\n",
        "\n",
        "# using StatsModel\n",
        "import statsmodels.api as sm\n",
        "X = df.iloc[:,0:13]\n",
        "X = sm.add_constant(X)\n",
        "y = df['medv']\n",
        "f = sm.OLS(y,X)\n",
        "r = f.fit()\n",
        "r.summary()\n",
        "yhat = r.predict(X)\n",
        "np.sqrt( ((yhat-y)**2).mean() )\n",
        "\n",
        "# training vs. test set\n",
        "X = df.iloc[:,0:13]\n",
        "y = df['medv']\n",
        "from sklearn.model_selection import train_test_split\n",
        "xtrain, xtest, ytrain, ytest = train_test_split(X,y,test_size=0.5,random_state=0) \n",
        "\n",
        "lm = LinearRegression()\n",
        "lm.fit(xtrain,ytrain)\n",
        "\n",
        "yhat_train = lm.predict(xtrain)\n",
        "rmse_train = np.sqrt( ((ytrain-yhat_train)**2).mean() )\n",
        "r2_train = lm.score(xtrain,ytrain)\n",
        "print(rmse_train,r2_train)\n",
        "\n",
        "yhat_test = lm.predict(xtest)\n",
        "rmse_test = np.sqrt( ((ytest-yhat_test)**2).mean() )\n",
        "r2_test = lm.score(xtest,ytest)\n",
        "print(rmse_test,r2_test)\n",
        "\n"
      ]
    }
  ]
}
